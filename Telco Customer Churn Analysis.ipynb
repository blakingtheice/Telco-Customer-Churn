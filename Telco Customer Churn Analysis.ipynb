{
 "cells": [
  {
   "cell_type": "markdown",
   "metadata": {},
   "source": [
    "# Understanding Factors Contributing to Customer Churn at Telco"
   ]
  },
  {
   "cell_type": "markdown",
   "metadata": {},
   "source": [
    "Author: Blake Nhul\n",
    "Date Completed: 11/23/2021\n",
    "\n",
    "This is my first data analysis completed for my github repository :).  I am hoping to do a lot more of these for fun!"
   ]
  },
  {
   "cell_type": "markdown",
   "metadata": {},
   "source": [
    "## Problem\n",
    "\n",
    "We are tasked with understanding the factors that are contributing to customer churn at Telco and what we can do to mitigate customer churn.  Telco is a fictional telecommunications company that was created by IBM."
   ]
  },
  {
   "cell_type": "markdown",
   "metadata": {},
   "source": [
    "## Data Collection\n",
    "\n",
    "<b><u> Some of the Basic Information </u></b><br>\n",
    "Two datasets were pulled from the IBM community datasets.  There is a main dataset and a dataset with some survey information on understanding the reason the customer decided to leave.  This data was pulled on 8/17/2021.  The files used in the analysis will also be on the github repository.\n",
    "\n",
    "<b>Github repository: </b> https://github.com/blakingtheice/Telco-Customer-Churn\n",
    "\n",
    "<b> Links to Datasets </b>\n",
    "\n",
    "Main dataset: https://community.ibm.com/accelerators/catalog/content/Customer-churn\n",
    "<br>Survey Data: https://community.ibm.com/accelerators/catalog/content/Telco-customer-churn-status-and-reason-for-leaving\n",
    "\n",
    "\n",
    "<b> Reading in the data </b>"
   ]
  },
  {
   "cell_type": "code",
   "execution_count": 1,
   "metadata": {},
   "outputs": [],
   "source": [
    "# Importing modules\n",
    "\n",
    "import pandas as pd\n",
    "import numpy as np\n",
    "import sys\n",
    "import os\n",
    "import seaborn as sns\n",
    "import matplotlib.pyplot as plt\n",
    "\n",
    "## Importing the data in\n",
    "\n",
    "file_path = os.getcwd()\n",
    "main_data = pd.read_excel(file_path + \"\\\\Data\\\\CustomerChurn.xlsx\")\n",
    "survey_data = pd.read_excel(file_path + \"\\\\Data\\\\Telco_customer_churn_status.xlsx\")"
   ]
  },
  {
   "cell_type": "markdown",
   "metadata": {},
   "source": [
    "<b><u> Dataset Descriptions </u></b><br><br>\n",
    "<b> Main Dataset </b>\n",
    "\n",
    "The main dataset includes a variety of information on the services that the customer uses, whether they have churned or not, and information like whether the customer has dependents.\n",
    "\n",
    "We can take a look at how the data is stored in general and the general types by eyeballing the output below:"
   ]
  },
  {
   "cell_type": "code",
   "execution_count": 2,
   "metadata": {
    "scrolled": false
   },
   "outputs": [
    {
     "data": {
      "text/html": [
       "<div>\n",
       "<style scoped>\n",
       "    .dataframe tbody tr th:only-of-type {\n",
       "        vertical-align: middle;\n",
       "    }\n",
       "\n",
       "    .dataframe tbody tr th {\n",
       "        vertical-align: top;\n",
       "    }\n",
       "\n",
       "    .dataframe thead th {\n",
       "        text-align: right;\n",
       "    }\n",
       "</style>\n",
       "<table border=\"1\" class=\"dataframe\">\n",
       "  <thead>\n",
       "    <tr style=\"text-align: right;\">\n",
       "      <th></th>\n",
       "      <th>LoyaltyID</th>\n",
       "      <th>Customer ID</th>\n",
       "      <th>Senior Citizen</th>\n",
       "      <th>Partner</th>\n",
       "      <th>Dependents</th>\n",
       "      <th>Tenure</th>\n",
       "      <th>Phone Service</th>\n",
       "      <th>Multiple Lines</th>\n",
       "      <th>Internet Service</th>\n",
       "      <th>Online Security</th>\n",
       "      <th>...</th>\n",
       "      <th>Device Protection</th>\n",
       "      <th>Tech Support</th>\n",
       "      <th>Streaming TV</th>\n",
       "      <th>Streaming Movies</th>\n",
       "      <th>Contract</th>\n",
       "      <th>Paperless Billing</th>\n",
       "      <th>Payment Method</th>\n",
       "      <th>Monthly Charges</th>\n",
       "      <th>Total Charges</th>\n",
       "      <th>Churn</th>\n",
       "    </tr>\n",
       "  </thead>\n",
       "  <tbody>\n",
       "    <tr>\n",
       "      <th>0</th>\n",
       "      <td>318537</td>\n",
       "      <td>7590-VHVEG</td>\n",
       "      <td>No</td>\n",
       "      <td>Yes</td>\n",
       "      <td>No</td>\n",
       "      <td>1</td>\n",
       "      <td>No</td>\n",
       "      <td>No phone service</td>\n",
       "      <td>DSL</td>\n",
       "      <td>No</td>\n",
       "      <td>...</td>\n",
       "      <td>No</td>\n",
       "      <td>No</td>\n",
       "      <td>No</td>\n",
       "      <td>No</td>\n",
       "      <td>Month-to-month</td>\n",
       "      <td>Yes</td>\n",
       "      <td>Electronic check</td>\n",
       "      <td>29.85</td>\n",
       "      <td>29.85</td>\n",
       "      <td>No</td>\n",
       "    </tr>\n",
       "    <tr>\n",
       "      <th>1</th>\n",
       "      <td>152148</td>\n",
       "      <td>5575-GNVDE</td>\n",
       "      <td>No</td>\n",
       "      <td>No</td>\n",
       "      <td>No</td>\n",
       "      <td>34</td>\n",
       "      <td>Yes</td>\n",
       "      <td>No</td>\n",
       "      <td>DSL</td>\n",
       "      <td>Yes</td>\n",
       "      <td>...</td>\n",
       "      <td>Yes</td>\n",
       "      <td>No</td>\n",
       "      <td>No</td>\n",
       "      <td>No</td>\n",
       "      <td>One year</td>\n",
       "      <td>No</td>\n",
       "      <td>Mailed check</td>\n",
       "      <td>56.95</td>\n",
       "      <td>1889.5</td>\n",
       "      <td>No</td>\n",
       "    </tr>\n",
       "    <tr>\n",
       "      <th>2</th>\n",
       "      <td>326527</td>\n",
       "      <td>3668-QPYBK</td>\n",
       "      <td>No</td>\n",
       "      <td>No</td>\n",
       "      <td>No</td>\n",
       "      <td>2</td>\n",
       "      <td>Yes</td>\n",
       "      <td>No</td>\n",
       "      <td>DSL</td>\n",
       "      <td>Yes</td>\n",
       "      <td>...</td>\n",
       "      <td>No</td>\n",
       "      <td>No</td>\n",
       "      <td>No</td>\n",
       "      <td>No</td>\n",
       "      <td>Month-to-month</td>\n",
       "      <td>Yes</td>\n",
       "      <td>Mailed check</td>\n",
       "      <td>53.85</td>\n",
       "      <td>108.15</td>\n",
       "      <td>Yes</td>\n",
       "    </tr>\n",
       "    <tr>\n",
       "      <th>3</th>\n",
       "      <td>845894</td>\n",
       "      <td>7795-CFOCW</td>\n",
       "      <td>No</td>\n",
       "      <td>No</td>\n",
       "      <td>No</td>\n",
       "      <td>45</td>\n",
       "      <td>No</td>\n",
       "      <td>No phone service</td>\n",
       "      <td>DSL</td>\n",
       "      <td>Yes</td>\n",
       "      <td>...</td>\n",
       "      <td>Yes</td>\n",
       "      <td>Yes</td>\n",
       "      <td>No</td>\n",
       "      <td>No</td>\n",
       "      <td>One year</td>\n",
       "      <td>No</td>\n",
       "      <td>Bank transfer (automatic)</td>\n",
       "      <td>42.30</td>\n",
       "      <td>1840.75</td>\n",
       "      <td>No</td>\n",
       "    </tr>\n",
       "    <tr>\n",
       "      <th>4</th>\n",
       "      <td>503388</td>\n",
       "      <td>9237-HQITU</td>\n",
       "      <td>No</td>\n",
       "      <td>No</td>\n",
       "      <td>No</td>\n",
       "      <td>2</td>\n",
       "      <td>Yes</td>\n",
       "      <td>No</td>\n",
       "      <td>Fiber optic</td>\n",
       "      <td>No</td>\n",
       "      <td>...</td>\n",
       "      <td>No</td>\n",
       "      <td>No</td>\n",
       "      <td>No</td>\n",
       "      <td>No</td>\n",
       "      <td>Month-to-month</td>\n",
       "      <td>Yes</td>\n",
       "      <td>Electronic check</td>\n",
       "      <td>70.70</td>\n",
       "      <td>151.65</td>\n",
       "      <td>Yes</td>\n",
       "    </tr>\n",
       "  </tbody>\n",
       "</table>\n",
       "<p>5 rows × 21 columns</p>\n",
       "</div>"
      ],
      "text/plain": [
       "   LoyaltyID Customer ID Senior Citizen Partner Dependents  Tenure  \\\n",
       "0     318537  7590-VHVEG             No     Yes         No       1   \n",
       "1     152148  5575-GNVDE             No      No         No      34   \n",
       "2     326527  3668-QPYBK             No      No         No       2   \n",
       "3     845894  7795-CFOCW             No      No         No      45   \n",
       "4     503388  9237-HQITU             No      No         No       2   \n",
       "\n",
       "  Phone Service    Multiple Lines Internet Service Online Security  ...  \\\n",
       "0            No  No phone service              DSL              No  ...   \n",
       "1           Yes                No              DSL             Yes  ...   \n",
       "2           Yes                No              DSL             Yes  ...   \n",
       "3            No  No phone service              DSL             Yes  ...   \n",
       "4           Yes                No      Fiber optic              No  ...   \n",
       "\n",
       "  Device Protection Tech Support Streaming TV Streaming Movies  \\\n",
       "0                No           No           No               No   \n",
       "1               Yes           No           No               No   \n",
       "2                No           No           No               No   \n",
       "3               Yes          Yes           No               No   \n",
       "4                No           No           No               No   \n",
       "\n",
       "         Contract Paperless Billing             Payment Method  \\\n",
       "0  Month-to-month               Yes           Electronic check   \n",
       "1        One year                No               Mailed check   \n",
       "2  Month-to-month               Yes               Mailed check   \n",
       "3        One year                No  Bank transfer (automatic)   \n",
       "4  Month-to-month               Yes           Electronic check   \n",
       "\n",
       "  Monthly Charges  Total Charges Churn  \n",
       "0           29.85          29.85    No  \n",
       "1           56.95         1889.5    No  \n",
       "2           53.85         108.15   Yes  \n",
       "3           42.30        1840.75    No  \n",
       "4           70.70         151.65   Yes  \n",
       "\n",
       "[5 rows x 21 columns]"
      ]
     },
     "execution_count": 2,
     "metadata": {},
     "output_type": "execute_result"
    }
   ],
   "source": [
    "main_data.head()"
   ]
  },
  {
   "cell_type": "markdown",
   "metadata": {},
   "source": [
    "<b> Survey Dataset </b>\n",
    "\n",
    "The survey dataset has information about why a customer churned, their satisfaction scores, and customer life time value (CLTV).\n",
    "\n",
    "We can take a quick look at what the dataset looks like below:"
   ]
  },
  {
   "cell_type": "code",
   "execution_count": 3,
   "metadata": {},
   "outputs": [
    {
     "data": {
      "text/html": [
       "<div>\n",
       "<style scoped>\n",
       "    .dataframe tbody tr th:only-of-type {\n",
       "        vertical-align: middle;\n",
       "    }\n",
       "\n",
       "    .dataframe tbody tr th {\n",
       "        vertical-align: top;\n",
       "    }\n",
       "\n",
       "    .dataframe thead th {\n",
       "        text-align: right;\n",
       "    }\n",
       "</style>\n",
       "<table border=\"1\" class=\"dataframe\">\n",
       "  <thead>\n",
       "    <tr style=\"text-align: right;\">\n",
       "      <th></th>\n",
       "      <th>Customer ID</th>\n",
       "      <th>Count</th>\n",
       "      <th>Quarter</th>\n",
       "      <th>Satisfaction Score</th>\n",
       "      <th>Customer Status</th>\n",
       "      <th>Churn Label</th>\n",
       "      <th>Churn Value</th>\n",
       "      <th>Churn Score</th>\n",
       "      <th>CLTV</th>\n",
       "      <th>Churn Category</th>\n",
       "      <th>Churn Reason</th>\n",
       "    </tr>\n",
       "  </thead>\n",
       "  <tbody>\n",
       "    <tr>\n",
       "      <th>0</th>\n",
       "      <td>8779-QRDMV</td>\n",
       "      <td>1</td>\n",
       "      <td>Q3</td>\n",
       "      <td>3</td>\n",
       "      <td>Churned</td>\n",
       "      <td>Yes</td>\n",
       "      <td>1</td>\n",
       "      <td>91</td>\n",
       "      <td>5433</td>\n",
       "      <td>Competitor</td>\n",
       "      <td>Competitor offered more data</td>\n",
       "    </tr>\n",
       "    <tr>\n",
       "      <th>1</th>\n",
       "      <td>7495-OOKFY</td>\n",
       "      <td>1</td>\n",
       "      <td>Q3</td>\n",
       "      <td>3</td>\n",
       "      <td>Churned</td>\n",
       "      <td>Yes</td>\n",
       "      <td>1</td>\n",
       "      <td>69</td>\n",
       "      <td>5302</td>\n",
       "      <td>Competitor</td>\n",
       "      <td>Competitor made better offer</td>\n",
       "    </tr>\n",
       "    <tr>\n",
       "      <th>2</th>\n",
       "      <td>1658-BYGOY</td>\n",
       "      <td>1</td>\n",
       "      <td>Q3</td>\n",
       "      <td>2</td>\n",
       "      <td>Churned</td>\n",
       "      <td>Yes</td>\n",
       "      <td>1</td>\n",
       "      <td>81</td>\n",
       "      <td>3179</td>\n",
       "      <td>Competitor</td>\n",
       "      <td>Competitor made better offer</td>\n",
       "    </tr>\n",
       "    <tr>\n",
       "      <th>3</th>\n",
       "      <td>4598-XLKNJ</td>\n",
       "      <td>1</td>\n",
       "      <td>Q3</td>\n",
       "      <td>2</td>\n",
       "      <td>Churned</td>\n",
       "      <td>Yes</td>\n",
       "      <td>1</td>\n",
       "      <td>88</td>\n",
       "      <td>5337</td>\n",
       "      <td>Dissatisfaction</td>\n",
       "      <td>Limited range of services</td>\n",
       "    </tr>\n",
       "    <tr>\n",
       "      <th>4</th>\n",
       "      <td>4846-WHAFZ</td>\n",
       "      <td>1</td>\n",
       "      <td>Q3</td>\n",
       "      <td>2</td>\n",
       "      <td>Churned</td>\n",
       "      <td>Yes</td>\n",
       "      <td>1</td>\n",
       "      <td>67</td>\n",
       "      <td>2793</td>\n",
       "      <td>Price</td>\n",
       "      <td>Extra data charges</td>\n",
       "    </tr>\n",
       "  </tbody>\n",
       "</table>\n",
       "</div>"
      ],
      "text/plain": [
       "  Customer ID  Count Quarter  Satisfaction Score Customer Status Churn Label  \\\n",
       "0  8779-QRDMV      1      Q3                   3         Churned         Yes   \n",
       "1  7495-OOKFY      1      Q3                   3         Churned         Yes   \n",
       "2  1658-BYGOY      1      Q3                   2         Churned         Yes   \n",
       "3  4598-XLKNJ      1      Q3                   2         Churned         Yes   \n",
       "4  4846-WHAFZ      1      Q3                   2         Churned         Yes   \n",
       "\n",
       "   Churn Value  Churn Score  CLTV   Churn Category  \\\n",
       "0            1           91  5433       Competitor   \n",
       "1            1           69  5302       Competitor   \n",
       "2            1           81  3179       Competitor   \n",
       "3            1           88  5337  Dissatisfaction   \n",
       "4            1           67  2793            Price   \n",
       "\n",
       "                   Churn Reason  \n",
       "0  Competitor offered more data  \n",
       "1  Competitor made better offer  \n",
       "2  Competitor made better offer  \n",
       "3     Limited range of services  \n",
       "4            Extra data charges  "
      ]
     },
     "execution_count": 3,
     "metadata": {},
     "output_type": "execute_result"
    }
   ],
   "source": [
    "survey_data.head()"
   ]
  },
  {
   "cell_type": "markdown",
   "metadata": {},
   "source": [
    "<b> Merging the Data Together </b>"
   ]
  },
  {
   "cell_type": "code",
   "execution_count": 4,
   "metadata": {
    "scrolled": true
   },
   "outputs": [],
   "source": [
    "main_merge = main_data.merge(survey_data,how='left',on='Customer ID')\n",
    "main_merge.loc[main_merge['Total Charges'] == \" \",'Total Charges'] = 0\n",
    "main_merge['Total Charges'] = pd.to_numeric(main_merge['Total Charges'])"
   ]
  },
  {
   "cell_type": "markdown",
   "metadata": {},
   "source": [
    "## Exploring the Data"
   ]
  },
  {
   "cell_type": "markdown",
   "metadata": {},
   "source": [
    "### Analyzing the Survey Results:  What can we find?\n",
    "\n",
    "We want to understand more about why customer churn has been happening.  The survey data has some useful information on this that we may want to take a look at.\n",
    "\n",
    "Approximately 27% (1869 out of 7043) of the customers have churned, but there might be some interesting pieces of information that the business can use from the survey results.  If the survey results can provide us some actionable insights as to why customers might be leaving, we can potentially do some research within areas of the business that are responsible for those and see if there are any initiatives we can do to possibly reduce the churn rate."
   ]
  },
  {
   "cell_type": "code",
   "execution_count": 5,
   "metadata": {},
   "outputs": [
    {
     "name": "stdout",
     "output_type": "stream",
     "text": [
      "  Churn  Count\n",
      "0    No   5174\n",
      "1   Yes   1869\n",
      "=======\n",
      "Total Customers:  7043\n",
      "% No Churn:  0.73\n",
      "% Churn:  0.27\n"
     ]
    }
   ],
   "source": [
    "## Showing # of customers that have churned and that haven't churned\n",
    "\n",
    "churn_count = main_merge[['Churn','Count']].groupby(by=\"Churn\",as_index=False).sum()\n",
    "print(churn_count)\n",
    "no_churn = churn_count[['Count']].loc[churn_count['Churn'] == \"No\"].sum()[0]\n",
    "print(\"=======\")\n",
    "print(\"Total Customers: \", main_merge.shape[0])\n",
    "print(\"% No Churn: \",round(no_churn / main_merge.shape[0],2))\n",
    "print(\"% Churn: \", 1 - round(no_churn / main_merge.shape[0],2))"
   ]
  },
  {
   "cell_type": "code",
   "execution_count": 6,
   "metadata": {
    "scrolled": true
   },
   "outputs": [
    {
     "name": "stdout",
     "output_type": "stream",
     "text": [
      "Total Customers Churned:  1869\n"
     ]
    }
   ],
   "source": [
    "churn_reason = main_merge[['Churn Category',\n",
    "                           'Churn Reason',\n",
    "                           'Count','Satisfaction Score',\n",
    "                          'CLTV']].groupby(by=['Churn Category','Churn Reason'],\n",
    "                                             as_index=False).agg({'Count':'sum',\n",
    "                                                                 'Satisfaction Score':'mean',\n",
    "                                                                 'CLTV':'mean'})\n",
    "                                                                 \n",
    "churn_category = main_merge[['Churn Category',\n",
    "                           'Count','Satisfaction Score',\n",
    "                          'CLTV']].groupby(by='Churn Category',\n",
    "                                             as_index=False).agg({'Count':'sum',\n",
    "                                                                 'Satisfaction Score':'mean',\n",
    "                                                                 'CLTV':'mean'}).sort_values(by=\"Count\",\n",
    "                                                                              ascending=False)\n",
    "\n",
    "print(\"Total Customers Churned: \", churn_category['Count'].sum())"
   ]
  },
  {
   "cell_type": "code",
   "execution_count": 7,
   "metadata": {},
   "outputs": [
    {
     "data": {
      "text/html": [
       "<div>\n",
       "<style scoped>\n",
       "    .dataframe tbody tr th:only-of-type {\n",
       "        vertical-align: middle;\n",
       "    }\n",
       "\n",
       "    .dataframe tbody tr th {\n",
       "        vertical-align: top;\n",
       "    }\n",
       "\n",
       "    .dataframe thead th {\n",
       "        text-align: right;\n",
       "    }\n",
       "</style>\n",
       "<table border=\"1\" class=\"dataframe\">\n",
       "  <thead>\n",
       "    <tr style=\"text-align: right;\">\n",
       "      <th></th>\n",
       "      <th>Churn Category</th>\n",
       "      <th>Count</th>\n",
       "      <th>Satisfaction Score</th>\n",
       "      <th>CLTV</th>\n",
       "    </tr>\n",
       "  </thead>\n",
       "  <tbody>\n",
       "    <tr>\n",
       "      <th>1</th>\n",
       "      <td>Competitor</td>\n",
       "      <td>841</td>\n",
       "      <td>1.546968</td>\n",
       "      <td>4177.512485</td>\n",
       "    </tr>\n",
       "    <tr>\n",
       "      <th>0</th>\n",
       "      <td>Attitude</td>\n",
       "      <td>314</td>\n",
       "      <td>2.041401</td>\n",
       "      <td>4161.375796</td>\n",
       "    </tr>\n",
       "    <tr>\n",
       "      <th>2</th>\n",
       "      <td>Dissatisfaction</td>\n",
       "      <td>303</td>\n",
       "      <td>1.709571</td>\n",
       "      <td>4153.778878</td>\n",
       "    </tr>\n",
       "    <tr>\n",
       "      <th>4</th>\n",
       "      <td>Price</td>\n",
       "      <td>211</td>\n",
       "      <td>1.819905</td>\n",
       "      <td>4165.142180</td>\n",
       "    </tr>\n",
       "    <tr>\n",
       "      <th>3</th>\n",
       "      <td>Other</td>\n",
       "      <td>200</td>\n",
       "      <td>2.005000</td>\n",
       "      <td>3989.280000</td>\n",
       "    </tr>\n",
       "  </tbody>\n",
       "</table>\n",
       "</div>"
      ],
      "text/plain": [
       "    Churn Category  Count  Satisfaction Score         CLTV\n",
       "1       Competitor    841            1.546968  4177.512485\n",
       "0         Attitude    314            2.041401  4161.375796\n",
       "2  Dissatisfaction    303            1.709571  4153.778878\n",
       "4            Price    211            1.819905  4165.142180\n",
       "3            Other    200            2.005000  3989.280000"
      ]
     },
     "execution_count": 7,
     "metadata": {},
     "output_type": "execute_result"
    }
   ],
   "source": [
    "churn_category"
   ]
  },
  {
   "cell_type": "markdown",
   "metadata": {},
   "source": [
    "Seems like a majority of the customers churned due to the competitor (841 out of 1869, or 45%), but there is a good chunk of customers that are dissatisfied (303 out of 1869) and perhaps didn't quite like the customer service that they were receiving (314 out of 1869).  we can take a deeper dive into each of these categories to find out the specific reason that was highlighted.  The satisfaction scores seem to be lower  in the dissatisfaction and competitor categories...  Satisfaction might be lower overall in general for customers that churn.\n",
    "\n",
    "And we see that in general they seem to be much lower in the group that churns versus the group that doesn't churn."
   ]
  },
  {
   "cell_type": "code",
   "execution_count": 8,
   "metadata": {},
   "outputs": [
    {
     "data": {
      "text/html": [
       "<div>\n",
       "<style scoped>\n",
       "    .dataframe tbody tr th:only-of-type {\n",
       "        vertical-align: middle;\n",
       "    }\n",
       "\n",
       "    .dataframe tbody tr th {\n",
       "        vertical-align: top;\n",
       "    }\n",
       "\n",
       "    .dataframe thead th {\n",
       "        text-align: right;\n",
       "    }\n",
       "</style>\n",
       "<table border=\"1\" class=\"dataframe\">\n",
       "  <thead>\n",
       "    <tr style=\"text-align: right;\">\n",
       "      <th></th>\n",
       "      <th>Churn</th>\n",
       "      <th>Satisfaction Score</th>\n",
       "    </tr>\n",
       "  </thead>\n",
       "  <tbody>\n",
       "    <tr>\n",
       "      <th>0</th>\n",
       "      <td>No</td>\n",
       "      <td>3.789911</td>\n",
       "    </tr>\n",
       "    <tr>\n",
       "      <th>1</th>\n",
       "      <td>Yes</td>\n",
       "      <td>1.736223</td>\n",
       "    </tr>\n",
       "  </tbody>\n",
       "</table>\n",
       "</div>"
      ],
      "text/plain": [
       "  Churn  Satisfaction Score\n",
       "0    No            3.789911\n",
       "1   Yes            1.736223"
      ]
     },
     "execution_count": 8,
     "metadata": {},
     "output_type": "execute_result"
    }
   ],
   "source": [
    "main_merge[['Churn','Satisfaction Score']].groupby(by='Churn',as_index=False).mean()"
   ]
  },
  {
   "cell_type": "markdown",
   "metadata": {},
   "source": [
    "We know that nearly 45% of the customers are churning due to the competitor and that attitude and dissatisfaction are also seem to be a problem as well (accounting for 78% of the reported reason for customer churn), but we might want to be more specific..\n",
    "\n",
    "Let's look further into that and look at the top problems overall..."
   ]
  },
  {
   "cell_type": "markdown",
   "metadata": {},
   "source": [
    "#### Competitor Churn Category\n",
    "\n",
    "We take a look into the competitor churn category and notice that those that churned within the competitor churn category churned mostly because the competitor made better offers (better pricing perhaps?) and had better devices.  This made up about 74% (624 out of 841) of the competitor churn category.  In general it might be helpful to conduct some further analysis on what the competitors are offering with concerns to their product and other offerings.  It seems like the competitor may have something better to offer that Telco may not have and that could put Telco at a further disadvantage in the future."
   ]
  },
  {
   "cell_type": "code",
   "execution_count": 9,
   "metadata": {},
   "outputs": [
    {
     "data": {
      "text/html": [
       "<div>\n",
       "<style scoped>\n",
       "    .dataframe tbody tr th:only-of-type {\n",
       "        vertical-align: middle;\n",
       "    }\n",
       "\n",
       "    .dataframe tbody tr th {\n",
       "        vertical-align: top;\n",
       "    }\n",
       "\n",
       "    .dataframe thead th {\n",
       "        text-align: right;\n",
       "    }\n",
       "</style>\n",
       "<table border=\"1\" class=\"dataframe\">\n",
       "  <thead>\n",
       "    <tr style=\"text-align: right;\">\n",
       "      <th></th>\n",
       "      <th>Churn Category</th>\n",
       "      <th>Churn Reason</th>\n",
       "      <th>Count</th>\n",
       "      <th>Satisfaction Score</th>\n",
       "      <th>CLTV</th>\n",
       "      <th>Total CLTV</th>\n",
       "    </tr>\n",
       "  </thead>\n",
       "  <tbody>\n",
       "    <tr>\n",
       "      <th>2</th>\n",
       "      <td>Competitor</td>\n",
       "      <td>Competitor had better devices</td>\n",
       "      <td>313</td>\n",
       "      <td>1.035144</td>\n",
       "      <td>4146.568690</td>\n",
       "      <td>1297876.0</td>\n",
       "    </tr>\n",
       "    <tr>\n",
       "      <th>3</th>\n",
       "      <td>Competitor</td>\n",
       "      <td>Competitor made better offer</td>\n",
       "      <td>311</td>\n",
       "      <td>1.858521</td>\n",
       "      <td>4244.247588</td>\n",
       "      <td>1319961.0</td>\n",
       "    </tr>\n",
       "    <tr>\n",
       "      <th>5</th>\n",
       "      <td>Competitor</td>\n",
       "      <td>Competitor offered more data</td>\n",
       "      <td>117</td>\n",
       "      <td>1.914530</td>\n",
       "      <td>4217.042735</td>\n",
       "      <td>493394.0</td>\n",
       "    </tr>\n",
       "    <tr>\n",
       "      <th>4</th>\n",
       "      <td>Competitor</td>\n",
       "      <td>Competitor offered higher download speeds</td>\n",
       "      <td>100</td>\n",
       "      <td>1.750000</td>\n",
       "      <td>4020.570000</td>\n",
       "      <td>402057.0</td>\n",
       "    </tr>\n",
       "  </tbody>\n",
       "</table>\n",
       "</div>"
      ],
      "text/plain": [
       "  Churn Category                               Churn Reason  Count  \\\n",
       "2     Competitor              Competitor had better devices    313   \n",
       "3     Competitor               Competitor made better offer    311   \n",
       "5     Competitor               Competitor offered more data    117   \n",
       "4     Competitor  Competitor offered higher download speeds    100   \n",
       "\n",
       "   Satisfaction Score         CLTV  Total CLTV  \n",
       "2            1.035144  4146.568690   1297876.0  \n",
       "3            1.858521  4244.247588   1319961.0  \n",
       "5            1.914530  4217.042735    493394.0  \n",
       "4            1.750000  4020.570000    402057.0  "
      ]
     },
     "execution_count": 9,
     "metadata": {},
     "output_type": "execute_result"
    }
   ],
   "source": [
    "churn_reason['Total CLTV'] = churn_reason['Count'] * churn_reason['CLTV']\n",
    "churn_reason = churn_reason.sort_values(by=\"Count\",ascending=False)\n",
    "churn_reason.loc[churn_reason['Churn Category'] == 'Competitor']"
   ]
  },
  {
   "cell_type": "markdown",
   "metadata": {},
   "source": [
    "#### Attitude Churn Category\n",
    "\n",
    "There aren't too many reasons for the attitude, it does seem like the attitude of the support person seemed to be the biggest reason within the attitude churn category.  Perhaps there might be some insight looking into customer service interactions and seeing if there are ways to better serve the customer with better customer service training.\n"
   ]
  },
  {
   "cell_type": "code",
   "execution_count": 10,
   "metadata": {},
   "outputs": [
    {
     "data": {
      "text/html": [
       "<div>\n",
       "<style scoped>\n",
       "    .dataframe tbody tr th:only-of-type {\n",
       "        vertical-align: middle;\n",
       "    }\n",
       "\n",
       "    .dataframe tbody tr th {\n",
       "        vertical-align: top;\n",
       "    }\n",
       "\n",
       "    .dataframe thead th {\n",
       "        text-align: right;\n",
       "    }\n",
       "</style>\n",
       "<table border=\"1\" class=\"dataframe\">\n",
       "  <thead>\n",
       "    <tr style=\"text-align: right;\">\n",
       "      <th></th>\n",
       "      <th>Churn Category</th>\n",
       "      <th>Churn Reason</th>\n",
       "      <th>Count</th>\n",
       "      <th>Satisfaction Score</th>\n",
       "      <th>CLTV</th>\n",
       "      <th>Total CLTV</th>\n",
       "    </tr>\n",
       "  </thead>\n",
       "  <tbody>\n",
       "    <tr>\n",
       "      <th>1</th>\n",
       "      <td>Attitude</td>\n",
       "      <td>Attitude of support person</td>\n",
       "      <td>220</td>\n",
       "      <td>2.013636</td>\n",
       "      <td>4145.513636</td>\n",
       "      <td>912013.0</td>\n",
       "    </tr>\n",
       "    <tr>\n",
       "      <th>0</th>\n",
       "      <td>Attitude</td>\n",
       "      <td>Attitude of service provider</td>\n",
       "      <td>94</td>\n",
       "      <td>2.106383</td>\n",
       "      <td>4198.500000</td>\n",
       "      <td>394659.0</td>\n",
       "    </tr>\n",
       "  </tbody>\n",
       "</table>\n",
       "</div>"
      ],
      "text/plain": [
       "  Churn Category                  Churn Reason  Count  Satisfaction Score  \\\n",
       "1       Attitude    Attitude of support person    220            2.013636   \n",
       "0       Attitude  Attitude of service provider     94            2.106383   \n",
       "\n",
       "          CLTV  Total CLTV  \n",
       "1  4145.513636    912013.0  \n",
       "0  4198.500000    394659.0  "
      ]
     },
     "execution_count": 10,
     "metadata": {},
     "output_type": "execute_result"
    }
   ],
   "source": [
    "churn_reason.loc[churn_reason['Churn Category'] == 'Attitude']"
   ]
  },
  {
   "cell_type": "markdown",
   "metadata": {},
   "source": [
    "#### Dissatisfaction Churn Category\n",
    "\n",
    "Product dissatisfcation, network reliability, and service dissatisfaction seem to be the top 3 categories within the dissatisfaction churn category.  It might be helpful to conduct further research about what specific aspects of the product that the customer might have not liked.\n",
    "\n",
    "As for network reliability, it might make sense to think about improvement opportunities that the business can make in network reliability.  Are there some low hanging fruits that can improve it?"
   ]
  },
  {
   "cell_type": "code",
   "execution_count": 11,
   "metadata": {
    "scrolled": false
   },
   "outputs": [
    {
     "data": {
      "text/html": [
       "<div>\n",
       "<style scoped>\n",
       "    .dataframe tbody tr th:only-of-type {\n",
       "        vertical-align: middle;\n",
       "    }\n",
       "\n",
       "    .dataframe tbody tr th {\n",
       "        vertical-align: top;\n",
       "    }\n",
       "\n",
       "    .dataframe thead th {\n",
       "        text-align: right;\n",
       "    }\n",
       "</style>\n",
       "<table border=\"1\" class=\"dataframe\">\n",
       "  <thead>\n",
       "    <tr style=\"text-align: right;\">\n",
       "      <th></th>\n",
       "      <th>Churn Category</th>\n",
       "      <th>Churn Reason</th>\n",
       "      <th>Count</th>\n",
       "      <th>Satisfaction Score</th>\n",
       "      <th>CLTV</th>\n",
       "      <th>Total CLTV</th>\n",
       "    </tr>\n",
       "  </thead>\n",
       "  <tbody>\n",
       "    <tr>\n",
       "      <th>11</th>\n",
       "      <td>Dissatisfaction</td>\n",
       "      <td>Product dissatisfaction</td>\n",
       "      <td>77</td>\n",
       "      <td>1.090909</td>\n",
       "      <td>4232.584416</td>\n",
       "      <td>325909.0</td>\n",
       "    </tr>\n",
       "    <tr>\n",
       "      <th>8</th>\n",
       "      <td>Dissatisfaction</td>\n",
       "      <td>Network reliability</td>\n",
       "      <td>72</td>\n",
       "      <td>1.958333</td>\n",
       "      <td>4045.055556</td>\n",
       "      <td>291244.0</td>\n",
       "    </tr>\n",
       "    <tr>\n",
       "      <th>12</th>\n",
       "      <td>Dissatisfaction</td>\n",
       "      <td>Service dissatisfaction</td>\n",
       "      <td>63</td>\n",
       "      <td>1.777778</td>\n",
       "      <td>4196.587302</td>\n",
       "      <td>264385.0</td>\n",
       "    </tr>\n",
       "    <tr>\n",
       "      <th>7</th>\n",
       "      <td>Dissatisfaction</td>\n",
       "      <td>Limited range of services</td>\n",
       "      <td>37</td>\n",
       "      <td>2.027027</td>\n",
       "      <td>4238.459459</td>\n",
       "      <td>156823.0</td>\n",
       "    </tr>\n",
       "    <tr>\n",
       "      <th>6</th>\n",
       "      <td>Dissatisfaction</td>\n",
       "      <td>Lack of self-service on Website</td>\n",
       "      <td>29</td>\n",
       "      <td>1.827586</td>\n",
       "      <td>4294.862069</td>\n",
       "      <td>124551.0</td>\n",
       "    </tr>\n",
       "    <tr>\n",
       "      <th>9</th>\n",
       "      <td>Dissatisfaction</td>\n",
       "      <td>Poor expertise of online support</td>\n",
       "      <td>13</td>\n",
       "      <td>2.153846</td>\n",
       "      <td>3827.000000</td>\n",
       "      <td>49751.0</td>\n",
       "    </tr>\n",
       "    <tr>\n",
       "      <th>10</th>\n",
       "      <td>Dissatisfaction</td>\n",
       "      <td>Poor expertise of phone support</td>\n",
       "      <td>12</td>\n",
       "      <td>2.083333</td>\n",
       "      <td>3827.666667</td>\n",
       "      <td>45932.0</td>\n",
       "    </tr>\n",
       "  </tbody>\n",
       "</table>\n",
       "</div>"
      ],
      "text/plain": [
       "     Churn Category                      Churn Reason  Count  \\\n",
       "11  Dissatisfaction           Product dissatisfaction     77   \n",
       "8   Dissatisfaction               Network reliability     72   \n",
       "12  Dissatisfaction           Service dissatisfaction     63   \n",
       "7   Dissatisfaction         Limited range of services     37   \n",
       "6   Dissatisfaction   Lack of self-service on Website     29   \n",
       "9   Dissatisfaction  Poor expertise of online support     13   \n",
       "10  Dissatisfaction   Poor expertise of phone support     12   \n",
       "\n",
       "    Satisfaction Score         CLTV  Total CLTV  \n",
       "11            1.090909  4232.584416    325909.0  \n",
       "8             1.958333  4045.055556    291244.0  \n",
       "12            1.777778  4196.587302    264385.0  \n",
       "7             2.027027  4238.459459    156823.0  \n",
       "6             1.827586  4294.862069    124551.0  \n",
       "9             2.153846  3827.000000     49751.0  \n",
       "10            2.083333  3827.666667     45932.0  "
      ]
     },
     "execution_count": 11,
     "metadata": {},
     "output_type": "execute_result"
    }
   ],
   "source": [
    "churn_reason.loc[churn_reason['Churn Category'] == 'Dissatisfaction']"
   ]
  },
  {
   "cell_type": "markdown",
   "metadata": {},
   "source": [
    "#### Price Churn Category\n",
    "\n",
    "It seems like a lot of the customers think the price is too high and that they don't like long distance charges as much.  Is there something that can be done here?  Can we look further into pricing or bring more value to the customer to justify a higher price?"
   ]
  },
  {
   "cell_type": "code",
   "execution_count": 12,
   "metadata": {
    "scrolled": true
   },
   "outputs": [
    {
     "data": {
      "text/html": [
       "<div>\n",
       "<style scoped>\n",
       "    .dataframe tbody tr th:only-of-type {\n",
       "        vertical-align: middle;\n",
       "    }\n",
       "\n",
       "    .dataframe tbody tr th {\n",
       "        vertical-align: top;\n",
       "    }\n",
       "\n",
       "    .dataframe thead th {\n",
       "        text-align: right;\n",
       "    }\n",
       "</style>\n",
       "<table border=\"1\" class=\"dataframe\">\n",
       "  <thead>\n",
       "    <tr style=\"text-align: right;\">\n",
       "      <th></th>\n",
       "      <th>Churn Category</th>\n",
       "      <th>Churn Reason</th>\n",
       "      <th>Count</th>\n",
       "      <th>Satisfaction Score</th>\n",
       "      <th>CLTV</th>\n",
       "      <th>Total CLTV</th>\n",
       "    </tr>\n",
       "  </thead>\n",
       "  <tbody>\n",
       "    <tr>\n",
       "      <th>20</th>\n",
       "      <td>Price</td>\n",
       "      <td>Price too high</td>\n",
       "      <td>78</td>\n",
       "      <td>1.846154</td>\n",
       "      <td>4305.179487</td>\n",
       "      <td>335804.0</td>\n",
       "    </tr>\n",
       "    <tr>\n",
       "      <th>19</th>\n",
       "      <td>Price</td>\n",
       "      <td>Long distance charges</td>\n",
       "      <td>64</td>\n",
       "      <td>1.781250</td>\n",
       "      <td>4218.343750</td>\n",
       "      <td>269974.0</td>\n",
       "    </tr>\n",
       "    <tr>\n",
       "      <th>17</th>\n",
       "      <td>Price</td>\n",
       "      <td>Extra data charges</td>\n",
       "      <td>39</td>\n",
       "      <td>1.820513</td>\n",
       "      <td>3755.948718</td>\n",
       "      <td>146482.0</td>\n",
       "    </tr>\n",
       "    <tr>\n",
       "      <th>18</th>\n",
       "      <td>Price</td>\n",
       "      <td>Lack of affordable download/upload speed</td>\n",
       "      <td>30</td>\n",
       "      <td>1.833333</td>\n",
       "      <td>4219.500000</td>\n",
       "      <td>126585.0</td>\n",
       "    </tr>\n",
       "  </tbody>\n",
       "</table>\n",
       "</div>"
      ],
      "text/plain": [
       "   Churn Category                              Churn Reason  Count  \\\n",
       "20          Price                            Price too high     78   \n",
       "19          Price                     Long distance charges     64   \n",
       "17          Price                        Extra data charges     39   \n",
       "18          Price  Lack of affordable download/upload speed     30   \n",
       "\n",
       "    Satisfaction Score         CLTV  Total CLTV  \n",
       "20            1.846154  4305.179487    335804.0  \n",
       "19            1.781250  4218.343750    269974.0  \n",
       "17            1.820513  3755.948718    146482.0  \n",
       "18            1.833333  4219.500000    126585.0  "
      ]
     },
     "execution_count": 12,
     "metadata": {},
     "output_type": "execute_result"
    }
   ],
   "source": [
    "churn_reason.loc[churn_reason['Churn Category'] == 'Price']"
   ]
  },
  {
   "cell_type": "markdown",
   "metadata": {},
   "source": [
    "#### Other Churn Category\n",
    "\n",
    "Any insights to obtain from here?  Doesn't look like there's much to see here...."
   ]
  },
  {
   "cell_type": "code",
   "execution_count": 13,
   "metadata": {
    "scrolled": false
   },
   "outputs": [
    {
     "data": {
      "text/html": [
       "<div>\n",
       "<style scoped>\n",
       "    .dataframe tbody tr th:only-of-type {\n",
       "        vertical-align: middle;\n",
       "    }\n",
       "\n",
       "    .dataframe tbody tr th {\n",
       "        vertical-align: top;\n",
       "    }\n",
       "\n",
       "    .dataframe thead th {\n",
       "        text-align: right;\n",
       "    }\n",
       "</style>\n",
       "<table border=\"1\" class=\"dataframe\">\n",
       "  <thead>\n",
       "    <tr style=\"text-align: right;\">\n",
       "      <th></th>\n",
       "      <th>Churn Category</th>\n",
       "      <th>Churn Reason</th>\n",
       "      <th>Count</th>\n",
       "      <th>Satisfaction Score</th>\n",
       "      <th>CLTV</th>\n",
       "      <th>Total CLTV</th>\n",
       "    </tr>\n",
       "  </thead>\n",
       "  <tbody>\n",
       "    <tr>\n",
       "      <th>14</th>\n",
       "      <td>Other</td>\n",
       "      <td>Don't know</td>\n",
       "      <td>130</td>\n",
       "      <td>1.815385</td>\n",
       "      <td>3991.107692</td>\n",
       "      <td>518844.0</td>\n",
       "    </tr>\n",
       "    <tr>\n",
       "      <th>15</th>\n",
       "      <td>Other</td>\n",
       "      <td>Moved</td>\n",
       "      <td>46</td>\n",
       "      <td>2.173913</td>\n",
       "      <td>3796.369565</td>\n",
       "      <td>174633.0</td>\n",
       "    </tr>\n",
       "    <tr>\n",
       "      <th>16</th>\n",
       "      <td>Other</td>\n",
       "      <td>Poor expertise of online support</td>\n",
       "      <td>18</td>\n",
       "      <td>2.944444</td>\n",
       "      <td>4366.888889</td>\n",
       "      <td>78604.0</td>\n",
       "    </tr>\n",
       "    <tr>\n",
       "      <th>13</th>\n",
       "      <td>Other</td>\n",
       "      <td>Deceased</td>\n",
       "      <td>6</td>\n",
       "      <td>2.000000</td>\n",
       "      <td>4295.833333</td>\n",
       "      <td>25775.0</td>\n",
       "    </tr>\n",
       "  </tbody>\n",
       "</table>\n",
       "</div>"
      ],
      "text/plain": [
       "   Churn Category                      Churn Reason  Count  \\\n",
       "14          Other                        Don't know    130   \n",
       "15          Other                             Moved     46   \n",
       "16          Other  Poor expertise of online support     18   \n",
       "13          Other                          Deceased      6   \n",
       "\n",
       "    Satisfaction Score         CLTV  Total CLTV  \n",
       "14            1.815385  3991.107692    518844.0  \n",
       "15            2.173913  3796.369565    174633.0  \n",
       "16            2.944444  4366.888889     78604.0  \n",
       "13            2.000000  4295.833333     25775.0  "
      ]
     },
     "execution_count": 13,
     "metadata": {},
     "output_type": "execute_result"
    }
   ],
   "source": [
    "churn_reason.loc[churn_reason['Churn Category'] == 'Other']"
   ]
  },
  {
   "cell_type": "markdown",
   "metadata": {},
   "source": [
    "### Churn vs Other Factors\n",
    "\n",
    "Let's take a look into what kinds of factors contribute to churn!"
   ]
  },
  {
   "cell_type": "code",
   "execution_count": 14,
   "metadata": {
    "scrolled": true
   },
   "outputs": [
    {
     "data": {
      "text/plain": [
       "Index(['LoyaltyID', 'Customer ID', 'Senior Citizen', 'Partner', 'Dependents',\n",
       "       'Tenure', 'Phone Service', 'Multiple Lines', 'Internet Service',\n",
       "       'Online Security', 'Online Backup', 'Device Protection', 'Tech Support',\n",
       "       'Streaming TV', 'Streaming Movies', 'Contract', 'Paperless Billing',\n",
       "       'Payment Method', 'Monthly Charges', 'Total Charges', 'Churn', 'Count',\n",
       "       'Quarter', 'Satisfaction Score', 'Customer Status', 'Churn Label',\n",
       "       'Churn Value', 'Churn Score', 'CLTV', 'Churn Category', 'Churn Reason'],\n",
       "      dtype='object')"
      ]
     },
     "execution_count": 14,
     "metadata": {},
     "output_type": "execute_result"
    }
   ],
   "source": [
    "main_merge.columns"
   ]
  },
  {
   "cell_type": "markdown",
   "metadata": {},
   "source": [
    "#### Churn vs Satisfaction Score\n",
    "\n",
    "Customers that have churned tend to have much lower satisfaction scores.  The interesting part is that customers who have churned do not have a satisfaction score above 3.  Satisfaction score might be important in predicting customer churn...\n",
    "\n",
    "If this is the case, we could potentially use surveys to see where customer satisfaction sits with for customers and if their satisfaction is lower... we might want to flag these customers and find out why this might be the case to mitigate the risk..."
   ]
  },
  {
   "cell_type": "code",
   "execution_count": 15,
   "metadata": {},
   "outputs": [
    {
     "data": {
      "text/plain": [
       "<seaborn.axisgrid.FacetGrid at 0x217aa342c10>"
      ]
     },
     "execution_count": 15,
     "metadata": {},
     "output_type": "execute_result"
    },
    {
     "data": {
      "image/png": "[encoded data removed]",
      "text/plain": [
       "<Figure size 457.625x360 with 1 Axes>"
      ]
     },
     "metadata": {
      "needs_background": "light"
     },
     "output_type": "display_data"
    }
   ],
   "source": [
    "score_palette = sns.color_palette(['#7b3294','#c2a5cf','#ffffbf','#a6dba0','#008837'])\n",
    "figure = sns.catplot(x='Churn Label',kind='count',hue='Satisfaction Score',palette=score_palette,data=main_merge)\n",
    "figure.set(title=\"Churn and Satisfaction Scores\",xlabel=\"Churn?\",ylabel='# of Customers')"
   ]
  },
  {
   "cell_type": "markdown",
   "metadata": {},
   "source": [
    "#### Churn and Demographics\n",
    "\n",
    "There are some datapoints collected from customers that give a little more information about their demographics, such as whether the customer is a senior citizen, has a partner, and/or has dependents.\n",
    "\n",
    "There seems to be some interesting initial patterns within our data:\n",
    "- Senior citizens tend to churn at a higher rate\n",
    "- Those with partners and dependents tend to churn at a lower rate\n",
    "\n",
    "What about senior citizens with partners or dependents?"
   ]
  },
  {
   "cell_type": "code",
   "execution_count": 16,
   "metadata": {
    "scrolled": true
   },
   "outputs": [
    {
     "data": {
      "image/png": "[encoded data removed]",
      "text/plain": [
       "<Figure size 360x360 with 1 Axes>"
      ]
     },
     "metadata": {
      "needs_background": "light"
     },
     "output_type": "display_data"
    },
    {
     "data": {
      "image/png": "[encoded data removed]",
      "text/plain": [
       "<Figure size 360x360 with 1 Axes>"
      ]
     },
     "metadata": {
      "needs_background": "light"
     },
     "output_type": "display_data"
    },
    {
     "data": {
      "image/png": "[encoded data removed]",
      "text/plain": [
       "<Figure size 360x360 with 1 Axes>"
      ]
     },
     "metadata": {
      "needs_background": "light"
     },
     "output_type": "display_data"
    }
   ],
   "source": [
    "demo_columns = ['Senior Citizen', 'Partner', 'Dependents']\n",
    "\n",
    "no_yes_palette = sns.color_palette(['#999999','#e6550d'])\n",
    "for x in demo_columns:\n",
    "    new_col = x + '?'\n",
    "    main_merge[new_col] = np.where(main_merge[x] == 'Yes',1,0)\n",
    "\n",
    "\n",
    "for var in demo_columns:\n",
    "    title_text = \"% Churn: \" + var\n",
    "    sns.catplot(x=var,\n",
    "                y=\"Churn Value\",\n",
    "                kind='bar',\n",
    "                data=main_merge,\n",
    "                palette=no_yes_palette,\n",
    "                order = ['No','Yes']).set(title=title_text,ylabel=\"% Churn Rate\")"
   ]
  },
  {
   "cell_type": "markdown",
   "metadata": {},
   "source": [
    "If we take a look at the graphs for looking at senior citizens who have partners and dependents, we can see something interesting.  Regardless if the person is a senior citizen, the churn rate was much lower if the customer had a partner or dependents."
   ]
  },
  {
   "cell_type": "code",
   "execution_count": 17,
   "metadata": {},
   "outputs": [
    {
     "data": {
      "image/png": "[encoded data removed]",
      "text/plain": [
       "<Figure size 412x360 with 1 Axes>"
      ]
     },
     "metadata": {
      "needs_background": "light"
     },
     "output_type": "display_data"
    },
    {
     "data": {
      "image/png": "[encoded data removed]",
      "text/plain": [
       "<Figure size 428.625x360 with 1 Axes>"
      ]
     },
     "metadata": {
      "needs_background": "light"
     },
     "output_type": "display_data"
    }
   ],
   "source": [
    "for var in ['Partner','Dependents']:\n",
    "    title_text = \"% Churn: Senior Citizen vs \" + var\n",
    "    sns.catplot(x='Senior Citizen',\n",
    "                y=\"Churn Value\",\n",
    "                hue=var,\n",
    "                kind='bar',\n",
    "                data=main_merge,\n",
    "                order = ['No','Yes'],\n",
    "                hue_order=['No','Yes'],\n",
    "               palette = no_yes_palette).set(title=title_text,ylabel=\"% Churn Rate\")"
   ]
  },
  {
   "cell_type": "markdown",
   "metadata": {},
   "source": [
    "We may want to ask ourselves, why do senior citizens tend to have a much higher churn rate?  I wonder what their satisfaction scores are...  Just for fun let's take a look!\n",
    "\n",
    "There doesn't seem to be much of a difference in the satisfaction scores between senior citizens....  What do their survey results say?"
   ]
  },
  {
   "cell_type": "code",
   "execution_count": 18,
   "metadata": {},
   "outputs": [
    {
     "data": {
      "text/html": [
       "<div>\n",
       "<style scoped>\n",
       "    .dataframe tbody tr th:only-of-type {\n",
       "        vertical-align: middle;\n",
       "    }\n",
       "\n",
       "    .dataframe tbody tr th {\n",
       "        vertical-align: top;\n",
       "    }\n",
       "\n",
       "    .dataframe thead th {\n",
       "        text-align: right;\n",
       "    }\n",
       "</style>\n",
       "<table border=\"1\" class=\"dataframe\">\n",
       "  <thead>\n",
       "    <tr style=\"text-align: right;\">\n",
       "      <th></th>\n",
       "      <th>Senior Citizen</th>\n",
       "      <th>Satisfaction Score</th>\n",
       "    </tr>\n",
       "  </thead>\n",
       "  <tbody>\n",
       "    <tr>\n",
       "      <th>0</th>\n",
       "      <td>No</td>\n",
       "      <td>3.0</td>\n",
       "    </tr>\n",
       "    <tr>\n",
       "      <th>1</th>\n",
       "      <td>Yes</td>\n",
       "      <td>3.0</td>\n",
       "    </tr>\n",
       "  </tbody>\n",
       "</table>\n",
       "</div>"
      ],
      "text/plain": [
       "  Senior Citizen  Satisfaction Score\n",
       "0             No                 3.0\n",
       "1            Yes                 3.0"
      ]
     },
     "execution_count": 18,
     "metadata": {},
     "output_type": "execute_result"
    }
   ],
   "source": [
    "main_merge[['Senior Citizen','Satisfaction Score']].groupby('Senior Citizen',as_index=False).median()"
   ]
  },
  {
   "cell_type": "markdown",
   "metadata": {},
   "source": [
    "<b> Taking a look at their survey results </b>\n",
    "\n",
    "It doesn't really seem like there is a specific churn reason that deviates from our prior analysis on the survey results in general.  "
   ]
  },
  {
   "cell_type": "code",
   "execution_count": 19,
   "metadata": {
    "scrolled": false
   },
   "outputs": [],
   "source": [
    "senior = main_merge.loc[main_merge['Senior Citizen'] == 'Yes']\n",
    "\n",
    "sr_churn_reason = senior[['Churn Category',\n",
    "                           'Churn Reason',\n",
    "                           'Count','Satisfaction Score',\n",
    "                          'CLTV']].groupby(by=['Churn Category','Churn Reason'],\n",
    "                                             as_index=False).agg({'Count':'sum',\n",
    "                                                                 'Satisfaction Score':'mean',\n",
    "                                                                 'CLTV':'mean'})\n",
    "\n",
    "sr_churn_category = senior[['Churn Category',\n",
    "                           'Count','Satisfaction Score',\n",
    "                          'CLTV']].groupby(by=['Churn Category'],\n",
    "                                             as_index=False).agg({'Count':'sum',\n",
    "                                                                 'Satisfaction Score':'mean',\n",
    "                                                                 'CLTV':'mean'})\n",
    "sr_churn_category['% Total Senior Citizen'] = sr_churn_category['Count']/sr_churn_category['Count'].sum()"
   ]
  },
  {
   "cell_type": "code",
   "execution_count": 20,
   "metadata": {},
   "outputs": [
    {
     "data": {
      "text/html": [
       "<div>\n",
       "<style scoped>\n",
       "    .dataframe tbody tr th:only-of-type {\n",
       "        vertical-align: middle;\n",
       "    }\n",
       "\n",
       "    .dataframe tbody tr th {\n",
       "        vertical-align: top;\n",
       "    }\n",
       "\n",
       "    .dataframe thead th {\n",
       "        text-align: right;\n",
       "    }\n",
       "</style>\n",
       "<table border=\"1\" class=\"dataframe\">\n",
       "  <thead>\n",
       "    <tr style=\"text-align: right;\">\n",
       "      <th></th>\n",
       "      <th>Churn Category</th>\n",
       "      <th>Count</th>\n",
       "      <th>Satisfaction Score</th>\n",
       "      <th>CLTV</th>\n",
       "      <th>% Total Senior Citizen</th>\n",
       "    </tr>\n",
       "  </thead>\n",
       "  <tbody>\n",
       "    <tr>\n",
       "      <th>0</th>\n",
       "      <td>Attitude</td>\n",
       "      <td>89</td>\n",
       "      <td>1.977528</td>\n",
       "      <td>4256.269663</td>\n",
       "      <td>0.186975</td>\n",
       "    </tr>\n",
       "    <tr>\n",
       "      <th>1</th>\n",
       "      <td>Competitor</td>\n",
       "      <td>213</td>\n",
       "      <td>1.553991</td>\n",
       "      <td>4161.079812</td>\n",
       "      <td>0.447479</td>\n",
       "    </tr>\n",
       "    <tr>\n",
       "      <th>2</th>\n",
       "      <td>Dissatisfaction</td>\n",
       "      <td>75</td>\n",
       "      <td>1.560000</td>\n",
       "      <td>4165.480000</td>\n",
       "      <td>0.157563</td>\n",
       "    </tr>\n",
       "    <tr>\n",
       "      <th>3</th>\n",
       "      <td>Other</td>\n",
       "      <td>43</td>\n",
       "      <td>2.069767</td>\n",
       "      <td>4060.069767</td>\n",
       "      <td>0.090336</td>\n",
       "    </tr>\n",
       "    <tr>\n",
       "      <th>4</th>\n",
       "      <td>Price</td>\n",
       "      <td>56</td>\n",
       "      <td>1.946429</td>\n",
       "      <td>4282.000000</td>\n",
       "      <td>0.117647</td>\n",
       "    </tr>\n",
       "  </tbody>\n",
       "</table>\n",
       "</div>"
      ],
      "text/plain": [
       "    Churn Category  Count  Satisfaction Score         CLTV  \\\n",
       "0         Attitude     89            1.977528  4256.269663   \n",
       "1       Competitor    213            1.553991  4161.079812   \n",
       "2  Dissatisfaction     75            1.560000  4165.480000   \n",
       "3            Other     43            2.069767  4060.069767   \n",
       "4            Price     56            1.946429  4282.000000   \n",
       "\n",
       "   % Total Senior Citizen  \n",
       "0                0.186975  \n",
       "1                0.447479  \n",
       "2                0.157563  \n",
       "3                0.090336  \n",
       "4                0.117647  "
      ]
     },
     "execution_count": 20,
     "metadata": {},
     "output_type": "execute_result"
    }
   ],
   "source": [
    "sr_churn_category"
   ]
  },
  {
   "cell_type": "markdown",
   "metadata": {},
   "source": [
    "#### Churn vs Charges and Payment Methods"
   ]
  },
  {
   "cell_type": "markdown",
   "metadata": {},
   "source": [
    "Customers who prefer paperless billing and use electronic checks tend to have higher churn rates.  We only know these as associations, we might want to better understand why this might be the case..."
   ]
  },
  {
   "cell_type": "code",
   "execution_count": 21,
   "metadata": {},
   "outputs": [
    {
     "data": {
      "image/png": "[encoded data removed]",
      "text/plain": [
       "<Figure size 576x288 with 1 Axes>"
      ]
     },
     "metadata": {
      "needs_background": "light"
     },
     "output_type": "display_data"
    },
    {
     "data": {
      "image/png": "[encoded data removed]",
      "text/plain": [
       "<Figure size 576x288 with 1 Axes>"
      ]
     },
     "metadata": {
      "needs_background": "light"
     },
     "output_type": "display_data"
    },
    {
     "data": {
      "image/png": "[encoded data removed]",
      "text/plain": [
       "<Figure size 576x288 with 1 Axes>"
      ]
     },
     "metadata": {
      "needs_background": "light"
     },
     "output_type": "display_data"
    }
   ],
   "source": [
    "## Script goes here\n",
    "import textwrap\n",
    "main_merge.columns\n",
    "\n",
    "\n",
    "categorical_cols = ['Paperless Billing','Payment Method','Contract']\n",
    "charges_cols = ['Monthly Charges', \n",
    "                         'Total Charges','CLTV']\n",
    "\n",
    "\n",
    "## Categorical analysis\n",
    "for var in categorical_cols:\n",
    "    title_text = \"Churn vs \" + var\n",
    "    ax = sns.catplot(x=var,\n",
    "               y=\"Churn Value\",\n",
    "                kind='bar',\n",
    "               data=main_merge,height=4,aspect = 2)\n",
    "    ax.set(title = title_text,ylabel='% Churn')"
   ]
  },
  {
   "cell_type": "markdown",
   "metadata": {},
   "source": [
    "Double checking to see how often each of the payment methods are used.  It looks like the electronic check is used the most often.  What's interesting is that automatic payments is associated with lower churn rates and the mailed check methods.  Not too surprising that the month to month contracts have the largest churn rates vs the other contract types."
   ]
  },
  {
   "cell_type": "code",
   "execution_count": 22,
   "metadata": {
    "scrolled": true
   },
   "outputs": [
    {
     "name": "stdout",
     "output_type": "stream",
     "text": [
      "              Payment Method  Churn Value  Count\n",
      "0  Bank transfer (automatic)          258   1544\n",
      "1    Credit card (automatic)          232   1522\n",
      "2           Electronic check         1071   2365\n",
      "3               Mailed check          308   1612\n",
      "------------------------\n",
      "  Paperless Billing  Churn Value  Count\n",
      "0                No          469   2872\n",
      "1               Yes         1400   4171\n"
     ]
    }
   ],
   "source": [
    "print(main_merge[['Payment Method','Churn Value','Count']].groupby(by='Payment Method',as_index=False).sum())\n",
    "print(\"------------------------\")\n",
    "print(main_merge[['Paperless Billing','Churn Value','Count']].groupby(by='Paperless Billing',as_index=False).sum())"
   ]
  },
  {
   "cell_type": "markdown",
   "metadata": {},
   "source": [
    "<b> Taking a Look at Charges and CLTV </b>\n",
    "\n",
    "It makes sense that the total charges might be smaller in the customer churn, more loyal customers that have stayed onger will have more total charges on average.  It does seem that the monthly charges are higher for the customers that have churned.  Perhaps this has something to do with the pricing complaints that we mentioned earlier after looking at the survey?"
   ]
  },
  {
   "cell_type": "code",
   "execution_count": 23,
   "metadata": {
    "scrolled": true
   },
   "outputs": [
    {
     "data": {
      "text/html": [
       "<div>\n",
       "<style scoped>\n",
       "    .dataframe tbody tr th:only-of-type {\n",
       "        vertical-align: middle;\n",
       "    }\n",
       "\n",
       "    .dataframe tbody tr th {\n",
       "        vertical-align: top;\n",
       "    }\n",
       "\n",
       "    .dataframe thead th {\n",
       "        text-align: right;\n",
       "    }\n",
       "</style>\n",
       "<table border=\"1\" class=\"dataframe\">\n",
       "  <thead>\n",
       "    <tr style=\"text-align: right;\">\n",
       "      <th></th>\n",
       "      <th>Churn Label</th>\n",
       "      <th>Monthly Charges</th>\n",
       "      <th>Total Charges</th>\n",
       "      <th>CLTV</th>\n",
       "    </tr>\n",
       "  </thead>\n",
       "  <tbody>\n",
       "    <tr>\n",
       "      <th>0</th>\n",
       "      <td>No</td>\n",
       "      <td>64.425</td>\n",
       "      <td>1679.525</td>\n",
       "      <td>4620.0</td>\n",
       "    </tr>\n",
       "    <tr>\n",
       "      <th>1</th>\n",
       "      <td>Yes</td>\n",
       "      <td>79.650</td>\n",
       "      <td>703.550</td>\n",
       "      <td>4238.0</td>\n",
       "    </tr>\n",
       "  </tbody>\n",
       "</table>\n",
       "</div>"
      ],
      "text/plain": [
       "  Churn Label  Monthly Charges  Total Charges    CLTV\n",
       "0          No           64.425       1679.525  4620.0\n",
       "1         Yes           79.650        703.550  4238.0"
      ]
     },
     "execution_count": 23,
     "metadata": {},
     "output_type": "execute_result"
    },
    {
     "data": {
      "image/png": "[encoded data removed]",
      "text/plain": [
       "<Figure size 720x1440 with 3 Axes>"
      ]
     },
     "metadata": {
      "needs_background": "light"
     },
     "output_type": "display_data"
    }
   ],
   "source": [
    "fig = plt.figure(figsize=(10,20))\n",
    "gs = fig.add_gridspec(3,1)\n",
    "\n",
    "i = 0\n",
    "for var in charges_cols:\n",
    "    ax = fig.add_subplot(gs[i,0])\n",
    "    title_text = \"Churn vs \" + var\n",
    "    sns.boxplot(x='Churn Label',\n",
    "                  y=var,\n",
    "                  data=main_merge)\n",
    "    ax.set(title = title_text)\n",
    "    i = i + 1\n",
    "    \n",
    "    \n",
    "main_merge[['Churn Label','Monthly Charges','Total Charges','CLTV']].groupby(by ='Churn Label',as_index=False).median()"
   ]
  },
  {
   "cell_type": "markdown",
   "metadata": {},
   "source": [
    "Perhaps it is worth taking a look at the survey results and how much those who complained about pricing paid monthly.\n",
    "\n",
    "Hmmm after looking at the graph below it doesn't seem like there's really that much of a difference between the churn categories with regards to the monthly charges."
   ]
  },
  {
   "cell_type": "code",
   "execution_count": 24,
   "metadata": {},
   "outputs": [
    {
     "data": {
      "text/plain": [
       "[Text(0.5, 1.0, 'Monthly Charges by Churn Category')]"
      ]
     },
     "execution_count": 24,
     "metadata": {},
     "output_type": "execute_result"
    },
    {
     "data": {
      "image/png": "[encoded data removed]",
      "text/plain": [
       "<Figure size 432x288 with 1 Axes>"
      ]
     },
     "metadata": {
      "needs_background": "light"
     },
     "output_type": "display_data"
    }
   ],
   "source": [
    "sns.boxplot(x='Churn Category',\n",
    "           y='Monthly Charges',\n",
    "           data=main_merge).set(title=\"Monthly Charges by Churn Category\")"
   ]
  },
  {
   "cell_type": "markdown",
   "metadata": {},
   "source": [
    "#### Churn vs Services"
   ]
  },
  {
   "cell_type": "markdown",
   "metadata": {},
   "source": [
    "Now let's take a look at how churn relates to whether the customer has certain services or not.\n",
    "\n",
    "Some interesting insights, customers that did not have the following had higher churn rates\n",
    "- Tech support\n",
    "- Online backup\n",
    "- Online security\n",
    "\n",
    "We only know this is associated with higher churn rates if they did not have it.  We might have to dig deeper into this by accounting for other variables with a multivariate analysis.  Which we will take a look at next."
   ]
  },
  {
   "cell_type": "code",
   "execution_count": 25,
   "metadata": {},
   "outputs": [
    {
     "data": {
      "image/png": "[encoded data removed]",
      "text/plain": [
       "<Figure size 360x360 with 1 Axes>"
      ]
     },
     "metadata": {
      "needs_background": "light"
     },
     "output_type": "display_data"
    },
    {
     "data": {
      "image/png": "[encoded data removed]",
      "text/plain": [
       "<Figure size 360x360 with 1 Axes>"
      ]
     },
     "metadata": {
      "needs_background": "light"
     },
     "output_type": "display_data"
    },
    {
     "data": {
      "image/png": "[encoded data removed]",
      "text/plain": [
       "<Figure size 360x360 with 1 Axes>"
      ]
     },
     "metadata": {
      "needs_background": "light"
     },
     "output_type": "display_data"
    },
    {
     "data": {
      "image/png": "[encoded data removed]",
      "text/plain": [
       "<Figure size 360x360 with 1 Axes>"
      ]
     },
     "metadata": {
      "needs_background": "light"
     },
     "output_type": "display_data"
    },
    {
     "data": {
      "image/png": "[encoded data removed]",
      "text/plain": [
       "<Figure size 360x360 with 1 Axes>"
      ]
     },
     "metadata": {
      "needs_background": "light"
     },
     "output_type": "display_data"
    },
    {
     "data": {
      "image/png": "[encoded data removed]",
      "text/plain": [
       "<Figure size 360x360 with 1 Axes>"
      ]
     },
     "metadata": {
      "needs_background": "light"
     },
     "output_type": "display_data"
    },
    {
     "data": {
      "image/png": "[encoded data removed]",
      "text/plain": [
       "<Figure size 360x360 with 1 Axes>"
      ]
     },
     "metadata": {
      "needs_background": "light"
     },
     "output_type": "display_data"
    },
    {
     "data": {
      "image/png": "[encoded data removed]",
      "text/plain": [
       "<Figure size 360x360 with 1 Axes>"
      ]
     },
     "metadata": {
      "needs_background": "light"
     },
     "output_type": "display_data"
    },
    {
     "data": {
      "image/png": "[encoded data removed]",
      "text/plain": [
       "<Figure size 360x360 with 1 Axes>"
      ]
     },
     "metadata": {
      "needs_background": "light"
     },
     "output_type": "display_data"
    }
   ],
   "source": [
    "main_merge.columns\n",
    "\n",
    "services_cols = ['Phone Service', 'Multiple Lines', 'Internet Service',\n",
    "       'Online Security', 'Online Backup', 'Device Protection', 'Tech Support',\n",
    "       'Streaming TV', 'Streaming Movies']\n",
    "\n",
    "for var in services_cols:\n",
    "    title_text = \"% Churn: \" + var\n",
    "    sns.catplot(x=var,\n",
    "                y=\"Churn Value\",\n",
    "                kind='bar',\n",
    "                data=main_merge).set(title=title_text,ylabel=\"% Churn Rate\")"
   ]
  },
  {
   "cell_type": "markdown",
   "metadata": {},
   "source": [
    "## Identifying the Most Important Factors in Identifying Customer Churn\n",
    "### Determining models to use for the analysis\n",
    "\n",
    "We want to suggest recommendations to the business on what could be contributing to the customer churn as well, so we may need a model that is easier to interpret initially.  Once we understand what kinds of factors (if there are any factors that do) that do contribute to customer churn, we can mitigate the customer churn risk before it happens.\n",
    "\n",
    "### Preprocessing the data\n",
    "\n",
    "We will need to process some of the categorical variables in the dataset, since there is quite a few in the dataset.  I am going to encode them using the OneHotEncoder function in skl earn.  I also need to prepare the data by dropping the less important columns of interest when running the model."
   ]
  },
  {
   "cell_type": "code",
   "execution_count": 26,
   "metadata": {
    "scrolled": true
   },
   "outputs": [],
   "source": [
    "from sklearn.preprocessing import OneHotEncoder\n",
    "\n",
    "oe_encoder = OneHotEncoder()\n",
    "req_encoding = ['Senior Citizen','Partner', 'Dependents', 'Phone Service', 'Multiple Lines', 'Internet Service',\n",
    "       'Online Security', 'Online Backup', 'Device Protection', 'Tech Support',\n",
    "       'Streaming TV', 'Streaming Movies', 'Contract', 'Paperless Billing',\n",
    "       'Payment Method']\n",
    "# go through each of the columns requiring encoding, merge them into the main dataset\n",
    "for x in req_encoding:\n",
    "    oe_results = oe_encoder.fit_transform(main_merge[[x]])\n",
    "    test_col = oe_encoder.categories_[0]\n",
    "    columns_append =  [x + \"_\" + y for y in test_col]\n",
    "    append_df = pd.DataFrame(oe_results.toarray(),columns=columns_append)\n",
    "    main_merge = pd.concat([main_merge,append_df],axis=1)\n",
    "    \n",
    "# Remove original columns\n",
    "telco_data = main_merge.drop(['Senior Citizen','Partner', 'Dependents', 'Phone Service', 'Multiple Lines', 'Internet Service',\n",
    "       'Online Security', 'Online Backup', 'Device Protection', 'Tech Support',\n",
    "       'Streaming TV', 'Streaming Movies', 'Contract', 'Paperless Billing',\n",
    "       'Payment Method','Count','Churn','Churn Reason','Churn Category',\n",
    "                              'Quarter','Customer Status','Churn Score','Senior Citizen?',\n",
    "                             'Dependents?','Partner?','Churn Label'],axis=1)"
   ]
  },
  {
   "cell_type": "markdown",
   "metadata": {},
   "source": [
    "### Logistic Regression Modeling - L1 and L2 Penalization"
   ]
  },
  {
   "cell_type": "code",
   "execution_count": 27,
   "metadata": {},
   "outputs": [],
   "source": [
    "from sklearn.linear_model import LogisticRegression\n",
    "from sklearn.metrics import accuracy_score\n",
    "from sklearn.metrics import precision_score\n",
    "from sklearn.metrics import recall_score\n",
    "from sklearn.model_selection import train_test_split\n",
    "import time\n",
    "\n",
    "x_cols = [ 'Tenure', 'Monthly Charges',\n",
    "       'Total Charges', 'Satisfaction Score', 'CLTV',\n",
    "       'Senior Citizen_No', 'Senior Citizen_Yes', 'Partner_No', 'Partner_Yes',\n",
    "       'Dependents_No', 'Dependents_Yes', 'Phone Service_No',\n",
    "       'Phone Service_Yes', 'Multiple Lines_No',\n",
    "       'Multiple Lines_No phone service', 'Multiple Lines_Yes',\n",
    "       'Internet Service_DSL', 'Internet Service_Fiber optic',\n",
    "       'Internet Service_No', 'Online Security_No',\n",
    "       'Online Security_No internet service', 'Online Security_Yes',\n",
    "       'Online Backup_No', 'Online Backup_No internet service',\n",
    "       'Online Backup_Yes', 'Device Protection_No',\n",
    "       'Device Protection_No internet service', 'Device Protection_Yes',\n",
    "       'Tech Support_No', 'Tech Support_No internet service',\n",
    "       'Tech Support_Yes', 'Streaming TV_No',\n",
    "       'Streaming TV_No internet service', 'Streaming TV_Yes',\n",
    "       'Streaming Movies_No', 'Streaming Movies_No internet service',\n",
    "       'Streaming Movies_Yes', 'Contract_Month-to-month', 'Contract_One year',\n",
    "       'Contract_Two year', 'Paperless Billing_No', 'Paperless Billing_Yes',\n",
    "       'Payment Method_Bank transfer (automatic)',\n",
    "       'Payment Method_Credit card (automatic)',\n",
    "       'Payment Method_Electronic check', 'Payment Method_Mailed check']\n",
    "\n",
    "churn = telco_data['Churn Value']\n",
    "x = telco_data[x_cols]\n",
    "\n",
    "x_train,x_test,y_train,y_test = train_test_split(\n",
    "    x,churn,test_size=0.2,random_state=1)\n",
    "\n",
    "## LR Model - L1\n",
    "\n",
    "start = time.time()\n",
    "lr_fit = LogisticRegression(random_state=0,solver='liblinear',penalty='l1').fit(x_train,y_train)\n",
    "\n",
    "predictor_names = np.array(x.columns).reshape(x.columns.shape[0],1)\n",
    "coef_l1 = np.round(lr_fit.coef_,2)[0].reshape(lr_fit.coef_.shape[1],1)\n",
    "\n",
    "predicted_vals = lr_fit.predict(x_test)\n",
    "end = time.time()\n",
    "time_record = end - start\n",
    "\n",
    "LR_L1_metrics = [round(accuracy_score(y_test,predicted_vals),2),\n",
    "                 round(precision_score(y_test,predicted_vals),2),\n",
    "                 round(recall_score(y_test,predicted_vals),2),\n",
    "                 round(time_record,2)]\n",
    "\n",
    "## LR Model - L2\n",
    "start = time.time()\n",
    "lr_fit2 = LogisticRegression(random_state=0,solver='liblinear',penalty='l2').fit(x_train,y_train)\n",
    "coef_l2 = np.round(lr_fit2.coef_,2)[0].reshape(lr_fit2.coef_.shape[1],1)\n",
    "\n",
    "predicted_vals = lr_fit2.predict(x_test)\n",
    "end = time.time()\n",
    "time_record = end - start\n",
    "\n",
    "LR_L2_metrics = [round(accuracy_score(y_test,predicted_vals),2),\n",
    "                 round(precision_score(y_test,predicted_vals),2),\n",
    "                 round(recall_score(y_test,predicted_vals),2),\n",
    "                 round(time_record,2)]\n",
    "\n",
    "## Forming Summary Matrices\n",
    "\n",
    "coef_matrix = np.concatenate((predictor_names,coef_l1,coef_l2),axis=1)\n",
    "coef_matrix_lr = pd.DataFrame(coef_matrix,columns=['Variable','LR-L1: Coef','LR-L2: Coef'])\n",
    "metric_name = ['Accuracy','Precision','Recall','Time to Run (Seconds)']\n",
    "metrics = {'Metric': metric_name,\n",
    "           'LR - L1' : LR_L1_metrics,\n",
    "           'LR - L2' : LR_L2_metrics}\n",
    "\n",
    "perf_metrics = pd.DataFrame(metrics)\n",
    "\n",
    "## Adding predicted churn class and probabilities back into the dataset\n",
    "predicted_churn_prob = lr_fit.predict_proba(x)[:,1]\n",
    "predicted_churn = lr_fit.predict(x)\n",
    "main_merge['Predicted Churn Prob'] = predicted_churn_prob\n",
    "main_merge['Predicted Churn Class'] = predicted_churn"
   ]
  },
  {
   "cell_type": "markdown",
   "metadata": {},
   "source": [
    "### Interpreting and Evaluating Model Performance\n",
    "\n",
    "We used a logistic regression model since it is easily interpretable (this will be great for offering suggestions to lower churn risk), runs relatively quickly, and provides some decent predictive power in identifying churn risk.\n",
    "\n",
    "#### Interpretation of Results\n",
    "\n",
    "Below is a table of coefficients for our model.\n",
    "Positive coefficients mean that when accounting for other variables, increases in this variable is associated with an increase in the likelihood for customer churn.  Negative coefficients are the opposite, increases in the variable is associated with a decrease in the likelihood for customer churn.\n",
    "\n",
    "We identified earlier that satisfaction scores seem to be pretty predictive of whether or not people will churn.  It might also be pretty difficult to obtain data wise (but powerful) unless we implement a system that periodically checks in for customer satisfaction."
   ]
  },
  {
   "cell_type": "code",
   "execution_count": 28,
   "metadata": {},
   "outputs": [
    {
     "data": {
      "text/html": [
       "<div>\n",
       "<style scoped>\n",
       "    .dataframe tbody tr th:only-of-type {\n",
       "        vertical-align: middle;\n",
       "    }\n",
       "\n",
       "    .dataframe tbody tr th {\n",
       "        vertical-align: top;\n",
       "    }\n",
       "\n",
       "    .dataframe thead th {\n",
       "        text-align: right;\n",
       "    }\n",
       "</style>\n",
       "<table border=\"1\" class=\"dataframe\">\n",
       "  <thead>\n",
       "    <tr style=\"text-align: right;\">\n",
       "      <th></th>\n",
       "      <th>Variable</th>\n",
       "      <th>LR-L1: Coef</th>\n",
       "      <th>LR-L2: Coef</th>\n",
       "    </tr>\n",
       "  </thead>\n",
       "  <tbody>\n",
       "    <tr>\n",
       "      <th>0</th>\n",
       "      <td>Tenure</td>\n",
       "      <td>-0.05</td>\n",
       "      <td>-0.03</td>\n",
       "    </tr>\n",
       "    <tr>\n",
       "      <th>1</th>\n",
       "      <td>Monthly Charges</td>\n",
       "      <td>0.03</td>\n",
       "      <td>0.06</td>\n",
       "    </tr>\n",
       "    <tr>\n",
       "      <th>2</th>\n",
       "      <td>Total Charges</td>\n",
       "      <td>0.0</td>\n",
       "      <td>0.0</td>\n",
       "    </tr>\n",
       "    <tr>\n",
       "      <th>3</th>\n",
       "      <td>Satisfaction Score</td>\n",
       "      <td>-5.45</td>\n",
       "      <td>-3.86</td>\n",
       "    </tr>\n",
       "    <tr>\n",
       "      <th>4</th>\n",
       "      <td>CLTV</td>\n",
       "      <td>-0.0</td>\n",
       "      <td>0.0</td>\n",
       "    </tr>\n",
       "    <tr>\n",
       "      <th>5</th>\n",
       "      <td>Senior Citizen_No</td>\n",
       "      <td>1.79</td>\n",
       "      <td>0.43</td>\n",
       "    </tr>\n",
       "    <tr>\n",
       "      <th>6</th>\n",
       "      <td>Senior Citizen_Yes</td>\n",
       "      <td>2.02</td>\n",
       "      <td>0.54</td>\n",
       "    </tr>\n",
       "    <tr>\n",
       "      <th>7</th>\n",
       "      <td>Partner_No</td>\n",
       "      <td>1.57</td>\n",
       "      <td>0.49</td>\n",
       "    </tr>\n",
       "    <tr>\n",
       "      <th>8</th>\n",
       "      <td>Partner_Yes</td>\n",
       "      <td>1.54</td>\n",
       "      <td>0.48</td>\n",
       "    </tr>\n",
       "    <tr>\n",
       "      <th>9</th>\n",
       "      <td>Dependents_No</td>\n",
       "      <td>1.69</td>\n",
       "      <td>0.68</td>\n",
       "    </tr>\n",
       "    <tr>\n",
       "      <th>10</th>\n",
       "      <td>Dependents_Yes</td>\n",
       "      <td>1.28</td>\n",
       "      <td>0.3</td>\n",
       "    </tr>\n",
       "    <tr>\n",
       "      <th>11</th>\n",
       "      <td>Phone Service_No</td>\n",
       "      <td>0.76</td>\n",
       "      <td>0.74</td>\n",
       "    </tr>\n",
       "    <tr>\n",
       "      <th>12</th>\n",
       "      <td>Phone Service_Yes</td>\n",
       "      <td>0.72</td>\n",
       "      <td>0.24</td>\n",
       "    </tr>\n",
       "    <tr>\n",
       "      <th>13</th>\n",
       "      <td>Multiple Lines_No</td>\n",
       "      <td>0.0</td>\n",
       "      <td>0.09</td>\n",
       "    </tr>\n",
       "    <tr>\n",
       "      <th>14</th>\n",
       "      <td>Multiple Lines_No phone service</td>\n",
       "      <td>0.77</td>\n",
       "      <td>0.74</td>\n",
       "    </tr>\n",
       "    <tr>\n",
       "      <th>15</th>\n",
       "      <td>Multiple Lines_Yes</td>\n",
       "      <td>0.19</td>\n",
       "      <td>0.15</td>\n",
       "    </tr>\n",
       "    <tr>\n",
       "      <th>16</th>\n",
       "      <td>Internet Service_DSL</td>\n",
       "      <td>0.0</td>\n",
       "      <td>0.48</td>\n",
       "    </tr>\n",
       "    <tr>\n",
       "      <th>17</th>\n",
       "      <td>Internet Service_Fiber optic</td>\n",
       "      <td>0.06</td>\n",
       "      <td>-0.19</td>\n",
       "    </tr>\n",
       "    <tr>\n",
       "      <th>18</th>\n",
       "      <td>Internet Service_No</td>\n",
       "      <td>0.43</td>\n",
       "      <td>0.69</td>\n",
       "    </tr>\n",
       "    <tr>\n",
       "      <th>19</th>\n",
       "      <td>Online Security_No</td>\n",
       "      <td>2.84</td>\n",
       "      <td>1.33</td>\n",
       "    </tr>\n",
       "    <tr>\n",
       "      <th>20</th>\n",
       "      <td>Online Security_No internet service</td>\n",
       "      <td>0.99</td>\n",
       "      <td>0.69</td>\n",
       "    </tr>\n",
       "    <tr>\n",
       "      <th>21</th>\n",
       "      <td>Online Security_Yes</td>\n",
       "      <td>0.0</td>\n",
       "      <td>-1.04</td>\n",
       "    </tr>\n",
       "    <tr>\n",
       "      <th>22</th>\n",
       "      <td>Online Backup_No</td>\n",
       "      <td>0.39</td>\n",
       "      <td>0.37</td>\n",
       "    </tr>\n",
       "    <tr>\n",
       "      <th>23</th>\n",
       "      <td>Online Backup_No internet service</td>\n",
       "      <td>0.71</td>\n",
       "      <td>0.69</td>\n",
       "    </tr>\n",
       "    <tr>\n",
       "      <th>24</th>\n",
       "      <td>Online Backup_Yes</td>\n",
       "      <td>0.0</td>\n",
       "      <td>-0.08</td>\n",
       "    </tr>\n",
       "    <tr>\n",
       "      <th>25</th>\n",
       "      <td>Device Protection_No</td>\n",
       "      <td>0.06</td>\n",
       "      <td>0.22</td>\n",
       "    </tr>\n",
       "    <tr>\n",
       "      <th>26</th>\n",
       "      <td>Device Protection_No internet service</td>\n",
       "      <td>0.48</td>\n",
       "      <td>0.69</td>\n",
       "    </tr>\n",
       "    <tr>\n",
       "      <th>27</th>\n",
       "      <td>Device Protection_Yes</td>\n",
       "      <td>0.0</td>\n",
       "      <td>0.07</td>\n",
       "    </tr>\n",
       "    <tr>\n",
       "      <th>28</th>\n",
       "      <td>Tech Support_No</td>\n",
       "      <td>0.58</td>\n",
       "      <td>0.41</td>\n",
       "    </tr>\n",
       "    <tr>\n",
       "      <th>29</th>\n",
       "      <td>Tech Support_No internet service</td>\n",
       "      <td>0.57</td>\n",
       "      <td>0.69</td>\n",
       "    </tr>\n",
       "    <tr>\n",
       "      <th>30</th>\n",
       "      <td>Tech Support_Yes</td>\n",
       "      <td>0.0</td>\n",
       "      <td>-0.13</td>\n",
       "    </tr>\n",
       "    <tr>\n",
       "      <th>31</th>\n",
       "      <td>Streaming TV_No</td>\n",
       "      <td>0.46</td>\n",
       "      <td>0.44</td>\n",
       "    </tr>\n",
       "    <tr>\n",
       "      <th>32</th>\n",
       "      <td>Streaming TV_No internet service</td>\n",
       "      <td>0.29</td>\n",
       "      <td>0.69</td>\n",
       "    </tr>\n",
       "    <tr>\n",
       "      <th>33</th>\n",
       "      <td>Streaming TV_Yes</td>\n",
       "      <td>0.0</td>\n",
       "      <td>-0.15</td>\n",
       "    </tr>\n",
       "    <tr>\n",
       "      <th>34</th>\n",
       "      <td>Streaming Movies_No</td>\n",
       "      <td>0.0</td>\n",
       "      <td>0.23</td>\n",
       "    </tr>\n",
       "    <tr>\n",
       "      <th>35</th>\n",
       "      <td>Streaming Movies_No internet service</td>\n",
       "      <td>1.14</td>\n",
       "      <td>0.69</td>\n",
       "    </tr>\n",
       "    <tr>\n",
       "      <th>36</th>\n",
       "      <td>Streaming Movies_Yes</td>\n",
       "      <td>0.05</td>\n",
       "      <td>0.06</td>\n",
       "    </tr>\n",
       "    <tr>\n",
       "      <th>37</th>\n",
       "      <td>Contract_Month-to-month</td>\n",
       "      <td>0.38</td>\n",
       "      <td>0.68</td>\n",
       "    </tr>\n",
       "    <tr>\n",
       "      <th>38</th>\n",
       "      <td>Contract_One year</td>\n",
       "      <td>0.36</td>\n",
       "      <td>0.47</td>\n",
       "    </tr>\n",
       "    <tr>\n",
       "      <th>39</th>\n",
       "      <td>Contract_Two year</td>\n",
       "      <td>0.0</td>\n",
       "      <td>-0.18</td>\n",
       "    </tr>\n",
       "    <tr>\n",
       "      <th>40</th>\n",
       "      <td>Paperless Billing_No</td>\n",
       "      <td>0.93</td>\n",
       "      <td>0.31</td>\n",
       "    </tr>\n",
       "    <tr>\n",
       "      <th>41</th>\n",
       "      <td>Paperless Billing_Yes</td>\n",
       "      <td>1.37</td>\n",
       "      <td>0.66</td>\n",
       "    </tr>\n",
       "    <tr>\n",
       "      <th>42</th>\n",
       "      <td>Payment Method_Bank transfer (automatic)</td>\n",
       "      <td>0.36</td>\n",
       "      <td>0.27</td>\n",
       "    </tr>\n",
       "    <tr>\n",
       "      <th>43</th>\n",
       "      <td>Payment Method_Credit card (automatic)</td>\n",
       "      <td>-0.0</td>\n",
       "      <td>-0.07</td>\n",
       "    </tr>\n",
       "    <tr>\n",
       "      <th>44</th>\n",
       "      <td>Payment Method_Electronic check</td>\n",
       "      <td>0.6</td>\n",
       "      <td>0.49</td>\n",
       "    </tr>\n",
       "    <tr>\n",
       "      <th>45</th>\n",
       "      <td>Payment Method_Mailed check</td>\n",
       "      <td>0.18</td>\n",
       "      <td>0.29</td>\n",
       "    </tr>\n",
       "  </tbody>\n",
       "</table>\n",
       "</div>"
      ],
      "text/plain": [
       "                                    Variable LR-L1: Coef LR-L2: Coef\n",
       "0                                     Tenure       -0.05       -0.03\n",
       "1                            Monthly Charges        0.03        0.06\n",
       "2                              Total Charges         0.0         0.0\n",
       "3                         Satisfaction Score       -5.45       -3.86\n",
       "4                                       CLTV        -0.0         0.0\n",
       "5                          Senior Citizen_No        1.79        0.43\n",
       "6                         Senior Citizen_Yes        2.02        0.54\n",
       "7                                 Partner_No        1.57        0.49\n",
       "8                                Partner_Yes        1.54        0.48\n",
       "9                              Dependents_No        1.69        0.68\n",
       "10                            Dependents_Yes        1.28         0.3\n",
       "11                          Phone Service_No        0.76        0.74\n",
       "12                         Phone Service_Yes        0.72        0.24\n",
       "13                         Multiple Lines_No         0.0        0.09\n",
       "14           Multiple Lines_No phone service        0.77        0.74\n",
       "15                        Multiple Lines_Yes        0.19        0.15\n",
       "16                      Internet Service_DSL         0.0        0.48\n",
       "17              Internet Service_Fiber optic        0.06       -0.19\n",
       "18                       Internet Service_No        0.43        0.69\n",
       "19                        Online Security_No        2.84        1.33\n",
       "20       Online Security_No internet service        0.99        0.69\n",
       "21                       Online Security_Yes         0.0       -1.04\n",
       "22                          Online Backup_No        0.39        0.37\n",
       "23         Online Backup_No internet service        0.71        0.69\n",
       "24                         Online Backup_Yes         0.0       -0.08\n",
       "25                      Device Protection_No        0.06        0.22\n",
       "26     Device Protection_No internet service        0.48        0.69\n",
       "27                     Device Protection_Yes         0.0        0.07\n",
       "28                           Tech Support_No        0.58        0.41\n",
       "29          Tech Support_No internet service        0.57        0.69\n",
       "30                          Tech Support_Yes         0.0       -0.13\n",
       "31                           Streaming TV_No        0.46        0.44\n",
       "32          Streaming TV_No internet service        0.29        0.69\n",
       "33                          Streaming TV_Yes         0.0       -0.15\n",
       "34                       Streaming Movies_No         0.0        0.23\n",
       "35      Streaming Movies_No internet service        1.14        0.69\n",
       "36                      Streaming Movies_Yes        0.05        0.06\n",
       "37                   Contract_Month-to-month        0.38        0.68\n",
       "38                         Contract_One year        0.36        0.47\n",
       "39                         Contract_Two year         0.0       -0.18\n",
       "40                      Paperless Billing_No        0.93        0.31\n",
       "41                     Paperless Billing_Yes        1.37        0.66\n",
       "42  Payment Method_Bank transfer (automatic)        0.36        0.27\n",
       "43    Payment Method_Credit card (automatic)        -0.0       -0.07\n",
       "44           Payment Method_Electronic check         0.6        0.49\n",
       "45               Payment Method_Mailed check        0.18        0.29"
      ]
     },
     "execution_count": 28,
     "metadata": {},
     "output_type": "execute_result"
    }
   ],
   "source": [
    "coef_matrix_lr"
   ]
  },
  {
   "cell_type": "markdown",
   "metadata": {},
   "source": [
    "#### Evaluating the predictive power of our model\n",
    "\n",
    "We compare the logistic regression model with L1 and L2 penalization of the parameters.  The time it takes to run both models is pretty negligible it looks like as well.  The predictive performance for both of the models is also fairly similar as well.\n",
    "\n"
   ]
  },
  {
   "cell_type": "code",
   "execution_count": 29,
   "metadata": {},
   "outputs": [
    {
     "data": {
      "text/html": [
       "<div>\n",
       "<style scoped>\n",
       "    .dataframe tbody tr th:only-of-type {\n",
       "        vertical-align: middle;\n",
       "    }\n",
       "\n",
       "    .dataframe tbody tr th {\n",
       "        vertical-align: top;\n",
       "    }\n",
       "\n",
       "    .dataframe thead th {\n",
       "        text-align: right;\n",
       "    }\n",
       "</style>\n",
       "<table border=\"1\" class=\"dataframe\">\n",
       "  <thead>\n",
       "    <tr style=\"text-align: right;\">\n",
       "      <th></th>\n",
       "      <th>Metric</th>\n",
       "      <th>LR - L1</th>\n",
       "      <th>LR - L2</th>\n",
       "    </tr>\n",
       "  </thead>\n",
       "  <tbody>\n",
       "    <tr>\n",
       "      <th>0</th>\n",
       "      <td>Accuracy</td>\n",
       "      <td>0.95</td>\n",
       "      <td>0.95</td>\n",
       "    </tr>\n",
       "    <tr>\n",
       "      <th>1</th>\n",
       "      <td>Precision</td>\n",
       "      <td>0.93</td>\n",
       "      <td>0.95</td>\n",
       "    </tr>\n",
       "    <tr>\n",
       "      <th>2</th>\n",
       "      <td>Recall</td>\n",
       "      <td>0.85</td>\n",
       "      <td>0.84</td>\n",
       "    </tr>\n",
       "    <tr>\n",
       "      <th>3</th>\n",
       "      <td>Time to Run (Seconds)</td>\n",
       "      <td>0.09</td>\n",
       "      <td>0.03</td>\n",
       "    </tr>\n",
       "  </tbody>\n",
       "</table>\n",
       "</div>"
      ],
      "text/plain": [
       "                  Metric  LR - L1  LR - L2\n",
       "0               Accuracy     0.95     0.95\n",
       "1              Precision     0.93     0.95\n",
       "2                 Recall     0.85     0.84\n",
       "3  Time to Run (Seconds)     0.09     0.03"
      ]
     },
     "execution_count": 29,
     "metadata": {},
     "output_type": "execute_result"
    }
   ],
   "source": [
    "perf_metrics"
   ]
  },
  {
   "cell_type": "code",
   "execution_count": 30,
   "metadata": {},
   "outputs": [],
   "source": [
    "conditions = [(main_merge['Churn Value'] == 1) & (main_merge['Predicted Churn Class'] == 1),\n",
    "              (main_merge['Churn Value'] == 0) & (main_merge['Predicted Churn Class'] == 0),\n",
    "             (main_merge['Churn Value'] - main_merge['Predicted Churn Class']) > 0,\n",
    "             (main_merge['Churn Value'] - main_merge['Predicted Churn Class']) < 0]\n",
    "\n",
    "values = ['Correctly Identified Churn',\n",
    "          'Correctly Identified No Churn',\n",
    "         'FN - Failed to Detect Churn',\n",
    "         'FP - Incorrectly Detected Churn']\n",
    "\n",
    "main_merge['Classification Category'] = np.select(conditions,values,default=\"Error\")"
   ]
  },
  {
   "cell_type": "markdown",
   "metadata": {},
   "source": [
    "The accuracy and precision is fairly high, but it might be interesting to see where the model fails and to accommodate for that potentially.  Some types of errors will be more costly.\n",
    "\n",
    "The two types of errors we have are failing to detect churn when there is customer churn (a false negative) and detecting churn when there is no churn (a false positive).  The more costly error is not identifying customer churn.  There isn't too much harm in identifying customer churn with the model, when there actually isn't any (may not want the model to do this too often, however).\n",
    "\n",
    "Identfying and flagging customer churn provides us with the opportunity to flag certain customers down to prioritize and check in with them to see if their needs are being met (and if there is anything we can do for them).\n",
    "\n",
    "We may want to tune our model not for accuracy, but to adjust it to minimize the \n",
    "\n",
    "Below is a table of counts for the number of correct classifications and the counts for the errors that were made with the above model."
   ]
  },
  {
   "cell_type": "code",
   "execution_count": 31,
   "metadata": {
    "scrolled": false
   },
   "outputs": [
    {
     "data": {
      "text/html": [
       "<div>\n",
       "<style scoped>\n",
       "    .dataframe tbody tr th:only-of-type {\n",
       "        vertical-align: middle;\n",
       "    }\n",
       "\n",
       "    .dataframe tbody tr th {\n",
       "        vertical-align: top;\n",
       "    }\n",
       "\n",
       "    .dataframe thead th {\n",
       "        text-align: right;\n",
       "    }\n",
       "</style>\n",
       "<table border=\"1\" class=\"dataframe\">\n",
       "  <thead>\n",
       "    <tr style=\"text-align: right;\">\n",
       "      <th></th>\n",
       "      <th>Classification Category</th>\n",
       "      <th>Count</th>\n",
       "    </tr>\n",
       "  </thead>\n",
       "  <tbody>\n",
       "    <tr>\n",
       "      <th>0</th>\n",
       "      <td>Correctly Identified Churn</td>\n",
       "      <td>1628</td>\n",
       "    </tr>\n",
       "    <tr>\n",
       "      <th>1</th>\n",
       "      <td>Correctly Identified No Churn</td>\n",
       "      <td>5080</td>\n",
       "    </tr>\n",
       "    <tr>\n",
       "      <th>2</th>\n",
       "      <td>FN - Failed to Detect Churn</td>\n",
       "      <td>241</td>\n",
       "    </tr>\n",
       "    <tr>\n",
       "      <th>3</th>\n",
       "      <td>FP - Incorrectly Detected Churn</td>\n",
       "      <td>94</td>\n",
       "    </tr>\n",
       "  </tbody>\n",
       "</table>\n",
       "</div>"
      ],
      "text/plain": [
       "           Classification Category  Count\n",
       "0       Correctly Identified Churn   1628\n",
       "1    Correctly Identified No Churn   5080\n",
       "2      FN - Failed to Detect Churn    241\n",
       "3  FP - Incorrectly Detected Churn     94"
      ]
     },
     "execution_count": 31,
     "metadata": {},
     "output_type": "execute_result"
    }
   ],
   "source": [
    "main_merge[['Classification Category',\n",
    "            'Count']].groupby(by='Classification Category',as_index=False).sum()"
   ]
  },
  {
   "cell_type": "markdown",
   "metadata": {},
   "source": [
    "We know that retaining customers is cheaper than Churn will affect our customer lifetime value (CLV), which measures the total worth of a customer to the business over the relationship with a customer.  It is related to the churn rate, which we are predicting with our model.  To calculate the CLV, we first need to calculate the monthly average revenue per account (ARPA), which is the mean of the monthly charges in this case.\n",
    "\n",
    "The formula for CLV is:\n",
    "\n",
    "$ CLV = \\frac{1}{Churn Rate} * ARPA$\n",
    "\n",
    "And our Monthly CLV is approximately $244.04 at the current churn rate of 26.54%.  If we can lower that churn rate, our monthly CLV will go up."
   ]
  },
  {
   "cell_type": "code",
   "execution_count": 78,
   "metadata": {
    "scrolled": true
   },
   "outputs": [
    {
     "name": "stdout",
     "output_type": "stream",
     "text": [
      "Current Monthly ARPA:  64.76\n",
      "Current Churn Rate:  26.54 %\n",
      "Current Monthly CLV:  244.04\n"
     ]
    }
   ],
   "source": [
    "monthly_arpa = main_merge['Monthly Charges'].mean()\n",
    "churn_rate = main_merge['Churn Value'].sum()/main_merge.shape[0]\n",
    "clv_stat = 1/churn_rate*monthly_arpa\n",
    "\n",
    "print(\"Current Monthly ARPA: \", round(monthly_arpa,2))\n",
    "print(\"Current Churn Rate: \",round(churn_rate*100,2),\"%\")\n",
    "print(\"Current Monthly CLV: \",round(clv_stat,2))"
   ]
  },
  {
   "cell_type": "markdown",
   "metadata": {},
   "source": [
    "Mitigating churn risk is important in retaining customers and improving the CLV as well.  Currently our churn rate sits at about 26%.  Below is a table of possibilities (and potential goals that could be set) for reducing customer churn within the business.\n",
    "\n",
    "Even if we mitigate 10% of our churn, we can estimate a 11% increase in our CLV.  This translates into preventing 187 of our customers that were going to churn from churning."
   ]
  },
  {
   "cell_type": "code",
   "execution_count": 149,
   "metadata": {},
   "outputs": [],
   "source": [
    "churn_rate2 = np.arange(0.00,churn_rate,step = churn_rate*0.10)[1:]\n",
    "churn_graph2 = pd.DataFrame(data={'churn_rate':churn_rate2,\n",
    "                                 'CLV':1/churn_rate2*monthly_arpa})\n",
    "churn_total = churn_count['Count'].loc[churn_count['Churn'] == 'Yes'].values[0]\n",
    "\n",
    "churn_graph2['Comparison to Current Churn Rate'] = churn_graph2['churn_rate'] - churn_rate\n",
    "churn_graph2['Change in CLV'] = churn_graph2['CLV'] - clv_stat\n",
    "churn_graph2['% Change CLV vs Current CLV'] = (churn_graph2['CLV'] - \n",
    "                                               clv_stat) / clv_stat * 100\n",
    "churn_graph2['% Reduction in Churn Rate'] = churn_graph2['Comparison to Current Churn Rate'] / churn_rate*100\n",
    "churn_graph2['Customer Churn Mitigated'] = -np.round(churn_graph2['% Reduction in Churn Rate']/100 * churn_total,0)\n",
    "\n"
   ]
  },
  {
   "cell_type": "code",
   "execution_count": 150,
   "metadata": {
    "scrolled": true
   },
   "outputs": [
    {
     "data": {
      "text/html": [
       "<div>\n",
       "<style scoped>\n",
       "    .dataframe tbody tr th:only-of-type {\n",
       "        vertical-align: middle;\n",
       "    }\n",
       "\n",
       "    .dataframe tbody tr th {\n",
       "        vertical-align: top;\n",
       "    }\n",
       "\n",
       "    .dataframe thead th {\n",
       "        text-align: right;\n",
       "    }\n",
       "</style>\n",
       "<table border=\"1\" class=\"dataframe\">\n",
       "  <thead>\n",
       "    <tr style=\"text-align: right;\">\n",
       "      <th></th>\n",
       "      <th>churn_rate</th>\n",
       "      <th>CLV</th>\n",
       "      <th>Comparison to Current Churn Rate</th>\n",
       "      <th>Change in CLV</th>\n",
       "      <th>% Change CLV vs Current CLV</th>\n",
       "      <th>% Reduction in Churn Rate</th>\n",
       "      <th>Customer Churn Mitigated</th>\n",
       "    </tr>\n",
       "  </thead>\n",
       "  <tbody>\n",
       "    <tr>\n",
       "      <th>0</th>\n",
       "      <td>0.026537</td>\n",
       "      <td>2440.431247</td>\n",
       "      <td>-0.238833</td>\n",
       "      <td>2196.388122</td>\n",
       "      <td>900.000000</td>\n",
       "      <td>-90.0</td>\n",
       "      <td>1682.0</td>\n",
       "    </tr>\n",
       "    <tr>\n",
       "      <th>1</th>\n",
       "      <td>0.053074</td>\n",
       "      <td>1220.215623</td>\n",
       "      <td>-0.212296</td>\n",
       "      <td>976.172499</td>\n",
       "      <td>400.000000</td>\n",
       "      <td>-80.0</td>\n",
       "      <td>1495.0</td>\n",
       "    </tr>\n",
       "    <tr>\n",
       "      <th>2</th>\n",
       "      <td>0.079611</td>\n",
       "      <td>813.477082</td>\n",
       "      <td>-0.185759</td>\n",
       "      <td>569.433958</td>\n",
       "      <td>233.333333</td>\n",
       "      <td>-70.0</td>\n",
       "      <td>1308.0</td>\n",
       "    </tr>\n",
       "    <tr>\n",
       "      <th>3</th>\n",
       "      <td>0.106148</td>\n",
       "      <td>610.107812</td>\n",
       "      <td>-0.159222</td>\n",
       "      <td>366.064687</td>\n",
       "      <td>150.000000</td>\n",
       "      <td>-60.0</td>\n",
       "      <td>1121.0</td>\n",
       "    </tr>\n",
       "    <tr>\n",
       "      <th>4</th>\n",
       "      <td>0.132685</td>\n",
       "      <td>488.086249</td>\n",
       "      <td>-0.132685</td>\n",
       "      <td>244.043125</td>\n",
       "      <td>100.000000</td>\n",
       "      <td>-50.0</td>\n",
       "      <td>934.0</td>\n",
       "    </tr>\n",
       "    <tr>\n",
       "      <th>5</th>\n",
       "      <td>0.159222</td>\n",
       "      <td>406.738541</td>\n",
       "      <td>-0.106148</td>\n",
       "      <td>162.695416</td>\n",
       "      <td>66.666667</td>\n",
       "      <td>-40.0</td>\n",
       "      <td>748.0</td>\n",
       "    </tr>\n",
       "    <tr>\n",
       "      <th>6</th>\n",
       "      <td>0.185759</td>\n",
       "      <td>348.633035</td>\n",
       "      <td>-0.079611</td>\n",
       "      <td>104.589911</td>\n",
       "      <td>42.857143</td>\n",
       "      <td>-30.0</td>\n",
       "      <td>561.0</td>\n",
       "    </tr>\n",
       "    <tr>\n",
       "      <th>7</th>\n",
       "      <td>0.212296</td>\n",
       "      <td>305.053906</td>\n",
       "      <td>-0.053074</td>\n",
       "      <td>61.010781</td>\n",
       "      <td>25.000000</td>\n",
       "      <td>-20.0</td>\n",
       "      <td>374.0</td>\n",
       "    </tr>\n",
       "    <tr>\n",
       "      <th>8</th>\n",
       "      <td>0.238833</td>\n",
       "      <td>271.159027</td>\n",
       "      <td>-0.026537</td>\n",
       "      <td>27.115903</td>\n",
       "      <td>11.111111</td>\n",
       "      <td>-10.0</td>\n",
       "      <td>187.0</td>\n",
       "    </tr>\n",
       "  </tbody>\n",
       "</table>\n",
       "</div>"
      ],
      "text/plain": [
       "   churn_rate          CLV  Comparison to Current Churn Rate  Change in CLV  \\\n",
       "0    0.026537  2440.431247                         -0.238833    2196.388122   \n",
       "1    0.053074  1220.215623                         -0.212296     976.172499   \n",
       "2    0.079611   813.477082                         -0.185759     569.433958   \n",
       "3    0.106148   610.107812                         -0.159222     366.064687   \n",
       "4    0.132685   488.086249                         -0.132685     244.043125   \n",
       "5    0.159222   406.738541                         -0.106148     162.695416   \n",
       "6    0.185759   348.633035                         -0.079611     104.589911   \n",
       "7    0.212296   305.053906                         -0.053074      61.010781   \n",
       "8    0.238833   271.159027                         -0.026537      27.115903   \n",
       "\n",
       "   % Change CLV vs Current CLV  % Reduction in Churn Rate  \\\n",
       "0                   900.000000                      -90.0   \n",
       "1                   400.000000                      -80.0   \n",
       "2                   233.333333                      -70.0   \n",
       "3                   150.000000                      -60.0   \n",
       "4                   100.000000                      -50.0   \n",
       "5                    66.666667                      -40.0   \n",
       "6                    42.857143                      -30.0   \n",
       "7                    25.000000                      -20.0   \n",
       "8                    11.111111                      -10.0   \n",
       "\n",
       "   Customer Churn Mitigated  \n",
       "0                    1682.0  \n",
       "1                    1495.0  \n",
       "2                    1308.0  \n",
       "3                    1121.0  \n",
       "4                     934.0  \n",
       "5                     748.0  \n",
       "6                     561.0  \n",
       "7                     374.0  \n",
       "8                     187.0  "
      ]
     },
     "execution_count": 150,
     "metadata": {},
     "output_type": "execute_result"
    }
   ],
   "source": [
    "churn_graph2"
   ]
  },
  {
   "cell_type": "code",
   "execution_count": 110,
   "metadata": {
    "scrolled": false
   },
   "outputs": [
    {
     "data": {
      "text/plain": [
       "[Text(0.5, 1.0, 'Changes in Churn Rate vs Changes in CLV')]"
      ]
     },
     "execution_count": 110,
     "metadata": {},
     "output_type": "execute_result"
    },
    {
     "data": {
      "image/png": "[encoded data removed]",
      "text/plain": [
       "<Figure size 432x288 with 1 Axes>"
      ]
     },
     "metadata": {
      "needs_background": "light"
     },
     "output_type": "display_data"
    }
   ],
   "source": [
    "sns.lineplot(x = '% Reduction in Churn Rate',\n",
    "             y='% Change CLV vs Current CLV',\n",
    "             data=churn_graph2).set(title=\"Changes in Churn Rate vs Changes in CLV\")\n"
   ]
  },
  {
   "cell_type": "markdown",
   "metadata": {},
   "source": [
    "## Next Steps\n",
    "\n",
    "### What are some of the quick wins that can be leveraged?\n",
    "\n",
    "- Leverage surveys to obtain feedback, check customer satisfaction from time to time (and mitigate risk before customer churn happens if customer is dissatisfied)\n",
    "- If data is not available for logging customer service interactions, invest in the infrastructure to log customer service interactions.  If data is available, dive into the data to identify opportunities for improvement for customer service training\n",
    "- Market research on the competition to assess what kinds of products the competition might be offering that we aren't, and evaluating what types of products customers are wanting.\n",
    "\n",
    "### Future projects\n",
    "\n",
    "- Building a comprehensive system that identifies churn risk (based on the model we have built now), attempts to mitigate churn risk based on the factors we found that lowers churn risk, (through surveys, recommending certain services, offering cheaper plans, etc.) and empower our sales teams with data to act before customer churn happens."
   ]
  }
 ],
 "metadata": {
  "kernelspec": {
   "display_name": "Python 3 (ipykernel)",
   "language": "python",
   "name": "python3"
  },
  "language_info": {
   "codemirror_mode": {
    "name": "ipython",
    "version": 3
   },
   "file_extension": ".py",
   "mimetype": "text/x-python",
   "name": "python",
   "nbconvert_exporter": "python",
   "pygments_lexer": "ipython3",
   "version": "3.9.6"
  }
 },
 "nbformat": 4,
 "nbformat_minor": 4
}
