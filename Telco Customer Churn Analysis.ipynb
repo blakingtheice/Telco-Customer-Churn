{
 "cells": [
  {
   "cell_type": "markdown",
   "metadata": {},
   "source": [
    "# Understanding Factors Contributing to Customer Churn at Telco"
   ]
  },
  {
   "cell_type": "markdown",
   "metadata": {},
   "source": [
    "## Problem\n",
    "\n",
    "We are tasked with understanding the factors that are contributing to customer churn at Telco and what we can do to mitigate customer churn.  Telco is a fictional telecommunications company that was created by IBM."
   ]
  },
  {
   "cell_type": "markdown",
   "metadata": {},
   "source": [
    "## Data Collection\n",
    "\n",
    "<b><u> Some of the Basic Information </u></b><br>\n",
    "Two datasets were pulled from the IBM community datasets.  There is a main dataset and a dataset with some survey information on understanding the reason the customer decided to leave.  This data was pulled on 8/17/2021.  The files used in the analysis will also be on the github repository.\n",
    "\n",
    "<b>Github repository: </b> https://github.com/blakingtheice/Telco-Customer-Churn\n",
    "\n",
    "<b> Links to Datasets </b>\n",
    "\n",
    "Main dataset: https://community.ibm.com/accelerators/catalog/content/Customer-churn\n",
    "<br>Survey Data: https://community.ibm.com/accelerators/catalog/content/Telco-customer-churn-status-and-reason-for-leaving\n",
    "\n",
    "\n",
    "<b> Reading in the data </b>"
   ]
  },
  {
   "cell_type": "code",
   "execution_count": 12,
   "metadata": {},
   "outputs": [],
   "source": [
    "import pandas as pd\n",
    "import sys\n",
    "import os\n",
    "\n",
    "## Importing the data in\n",
    "\n",
    "file_path = os.getcwd()\n",
    "main_data = pd.read_excel(file_path + \"\\\\Data\\\\CustomerChurn.xlsx\")\n",
    "survey_data = pd.read_excel(file_path + \"\\\\Data\\\\Telco_customer_churn_status.xlsx\")"
   ]
  },
  {
   "cell_type": "markdown",
   "metadata": {},
   "source": [
    "<b><u> Dataset Descriptions </u></b><br>\n",
    "<b> Main Dataset </b>\n",
    "\n",
    "The main dataset includes a variety of information on the services that the customer uses, whether they have churned or not, and information like whether the customer has dependents.\n",
    "\n",
    "We can take a look at how the data is stored in general and the general types by eyeballing the output below:"
   ]
  },
  {
   "cell_type": "code",
   "execution_count": 10,
   "metadata": {
    "scrolled": false
   },
   "outputs": [
    {
     "name": "stdout",
     "output_type": "stream",
     "text": [
      "   LoyaltyID Customer ID Senior Citizen Partner Dependents  Tenure  \\\n",
      "0     318537  7590-VHVEG             No     Yes         No       1   \n",
      "1     152148  5575-GNVDE             No      No         No      34   \n",
      "2     326527  3668-QPYBK             No      No         No       2   \n",
      "3     845894  7795-CFOCW             No      No         No      45   \n",
      "4     503388  9237-HQITU             No      No         No       2   \n",
      "\n",
      "  Phone Service    Multiple Lines Internet Service Online Security  ...  \\\n",
      "0            No  No phone service              DSL              No  ...   \n",
      "1           Yes                No              DSL             Yes  ...   \n",
      "2           Yes                No              DSL             Yes  ...   \n",
      "3            No  No phone service              DSL             Yes  ...   \n",
      "4           Yes                No      Fiber optic              No  ...   \n",
      "\n",
      "  Device Protection Tech Support Streaming TV Streaming Movies  \\\n",
      "0                No           No           No               No   \n",
      "1               Yes           No           No               No   \n",
      "2                No           No           No               No   \n",
      "3               Yes          Yes           No               No   \n",
      "4                No           No           No               No   \n",
      "\n",
      "         Contract Paperless Billing             Payment Method  \\\n",
      "0  Month-to-month               Yes           Electronic check   \n",
      "1        One year                No               Mailed check   \n",
      "2  Month-to-month               Yes               Mailed check   \n",
      "3        One year                No  Bank transfer (automatic)   \n",
      "4  Month-to-month               Yes           Electronic check   \n",
      "\n",
      "  Monthly Charges  Total Charges Churn  \n",
      "0           29.85          29.85    No  \n",
      "1           56.95         1889.5    No  \n",
      "2           53.85         108.15   Yes  \n",
      "3           42.30        1840.75    No  \n",
      "4           70.70         151.65   Yes  \n",
      "\n",
      "[5 rows x 21 columns]\n"
     ]
    }
   ],
   "source": [
    "print(main_data.head())"
   ]
  },
  {
   "cell_type": "markdown",
   "metadata": {},
   "source": [
    "<b> Survey Dataset </b>\n",
    "\n",
    "The survey dataset has information about why a customer churned, their satisfaction scores, and customer life time value (CLTV).\n",
    "\n",
    "We can take a quick look at what the dataset looks like below:"
   ]
  },
  {
   "cell_type": "code",
   "execution_count": 11,
   "metadata": {},
   "outputs": [
    {
     "name": "stdout",
     "output_type": "stream",
     "text": [
      "  Customer ID  Count Quarter  Satisfaction Score Customer Status Churn Label  \\\n",
      "0  8779-QRDMV      1      Q3                   3         Churned         Yes   \n",
      "1  7495-OOKFY      1      Q3                   3         Churned         Yes   \n",
      "2  1658-BYGOY      1      Q3                   2         Churned         Yes   \n",
      "3  4598-XLKNJ      1      Q3                   2         Churned         Yes   \n",
      "4  4846-WHAFZ      1      Q3                   2         Churned         Yes   \n",
      "\n",
      "   Churn Value  Churn Score  CLTV   Churn Category  \\\n",
      "0            1           91  5433       Competitor   \n",
      "1            1           69  5302       Competitor   \n",
      "2            1           81  3179       Competitor   \n",
      "3            1           88  5337  Dissatisfaction   \n",
      "4            1           67  2793            Price   \n",
      "\n",
      "                   Churn Reason  \n",
      "0  Competitor offered more data  \n",
      "1  Competitor made better offer  \n",
      "2  Competitor made better offer  \n",
      "3     Limited range of services  \n",
      "4            Extra data charges  \n"
     ]
    }
   ],
   "source": [
    "print(survey_data.head())"
   ]
  },
  {
   "cell_type": "markdown",
   "metadata": {},
   "source": [
    "<b> Merging the Data Together </b>"
   ]
  },
  {
   "cell_type": "code",
   "execution_count": 19,
   "metadata": {},
   "outputs": [
    {
     "name": "stdout",
     "output_type": "stream",
     "text": [
      "LoyaltyID                0\n",
      "Customer ID              0\n",
      "Senior Citizen           0\n",
      "Partner                  0\n",
      "Dependents               0\n",
      "Tenure                   0\n",
      "Phone Service            0\n",
      "Multiple Lines           0\n",
      "Internet Service         0\n",
      "Online Security          0\n",
      "Online Backup            0\n",
      "Device Protection        0\n",
      "Tech Support             0\n",
      "Streaming TV             0\n",
      "Streaming Movies         0\n",
      "Contract                 0\n",
      "Paperless Billing        0\n",
      "Payment Method           0\n",
      "Monthly Charges          0\n",
      "Total Charges            0\n",
      "Churn                    0\n",
      "Count                    0\n",
      "Quarter                  0\n",
      "Satisfaction Score       0\n",
      "Customer Status          0\n",
      "Churn Label              0\n",
      "Churn Value              0\n",
      "Churn Score              0\n",
      "CLTV                     0\n",
      "Churn Category        5174\n",
      "Churn Reason          5174\n",
      "dtype: int64\n"
     ]
    }
   ],
   "source": [
    "main_merge = main_data.merge(survey_data,how='left',on='Customer ID')\n",
    "\n",
    "## Taking a look at how many blanks there are\n",
    "\n",
    "print(main_merge.isnull().sum())"
   ]
  },
  {
   "cell_type": "markdown",
   "metadata": {},
   "source": [
    "## Exploring the Data\n",
    "\n",
    "Stuff goes here"
   ]
  },
  {
   "cell_type": "markdown",
   "metadata": {},
   "source": [
    "### Taking in the Survey Results:  What can we find?\n",
    "\n",
    "We want to understand more about why customer churn has been happening.  The survey data has some useful information on this that we may want to take a look at."
   ]
  },
  {
   "cell_type": "code",
   "execution_count": null,
   "metadata": {},
   "outputs": [],
   "source": [
    "## Code goes here for:\n",
    "## 1) Chart showing proportion of customers that have churned\n",
    "## 2) Chart showing distribution of different reasons for churn"
   ]
  },
  {
   "cell_type": "markdown",
   "metadata": {},
   "source": [
    "Commentary on the graphs above will go here."
   ]
  },
  {
   "cell_type": "markdown",
   "metadata": {},
   "source": [
    "### Churn vs Other Factors\n",
    "\n",
    "Stuff goes here"
   ]
  },
  {
   "cell_type": "markdown",
   "metadata": {},
   "source": [
    "## Next Steps\n",
    "\n",
    "### What are some of the quick wins that can be leveraged?\n",
    "\n",
    "### Is there additional project work that needs to be completed?"
   ]
  }
 ],
 "metadata": {
  "kernelspec": {
   "display_name": "Python 3 (ipykernel)",
   "language": "python",
   "name": "python3"
  },
  "language_info": {
   "codemirror_mode": {
    "name": "ipython",
    "version": 3
   },
   "file_extension": ".py",
   "mimetype": "text/x-python",
   "name": "python",
   "nbconvert_exporter": "python",
   "pygments_lexer": "ipython3",
   "version": "3.9.6"
  }
 },
 "nbformat": 4,
 "nbformat_minor": 4
}
